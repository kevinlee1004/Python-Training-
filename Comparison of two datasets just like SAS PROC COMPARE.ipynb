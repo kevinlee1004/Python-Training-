{
 "cells": [
  {
   "cell_type": "markdown",
   "metadata": {},
   "source": [
    "## Compare two datasets just like SAS proc compare"
   ]
  },
  {
   "cell_type": "code",
   "execution_count": 1,
   "metadata": {},
   "outputs": [],
   "source": [
    "### Import modules\n",
    "from pandas import Series, DataFrame\n",
    "import pandas as pd\n"
   ]
  },
  {
   "cell_type": "code",
   "execution_count": 3,
   "metadata": {},
   "outputs": [
    {
     "data": {
      "text/html": [
       "<div>\n",
       "<style scoped>\n",
       "    .dataframe tbody tr th:only-of-type {\n",
       "        vertical-align: middle;\n",
       "    }\n",
       "\n",
       "    .dataframe tbody tr th {\n",
       "        vertical-align: top;\n",
       "    }\n",
       "\n",
       "    .dataframe thead th {\n",
       "        text-align: right;\n",
       "    }\n",
       "</style>\n",
       "<table border=\"1\" class=\"dataframe\">\n",
       "  <thead>\n",
       "    <tr style=\"text-align: right;\">\n",
       "      <th></th>\n",
       "      <th>subjid</th>\n",
       "      <th>sysbp</th>\n",
       "      <th>diabp</th>\n",
       "      <th>weight</th>\n",
       "    </tr>\n",
       "  </thead>\n",
       "  <tbody>\n",
       "    <tr>\n",
       "      <th>0</th>\n",
       "      <td>01-001</td>\n",
       "      <td>154</td>\n",
       "      <td>44</td>\n",
       "      <td>90.5</td>\n",
       "    </tr>\n",
       "    <tr>\n",
       "      <th>1</th>\n",
       "      <td>01-002</td>\n",
       "      <td>152</td>\n",
       "      <td>48</td>\n",
       "      <td>83.0</td>\n",
       "    </tr>\n",
       "    <tr>\n",
       "      <th>2</th>\n",
       "      <td>01-003</td>\n",
       "      <td>148</td>\n",
       "      <td>47</td>\n",
       "      <td>78.0</td>\n",
       "    </tr>\n",
       "    <tr>\n",
       "      <th>3</th>\n",
       "      <td>02-001</td>\n",
       "      <td>149</td>\n",
       "      <td>50</td>\n",
       "      <td>77.0</td>\n",
       "    </tr>\n",
       "  </tbody>\n",
       "</table>\n",
       "</div>"
      ],
      "text/plain": [
       "   subjid  sysbp  diabp  weight\n",
       "0  01-001    154     44    90.5\n",
       "1  01-002    152     48    83.0\n",
       "2  01-003    148     47    78.0\n",
       "3  02-001    149     50    77.0"
      ]
     },
     "execution_count": 3,
     "metadata": {},
     "output_type": "execute_result"
    }
   ],
   "source": [
    "## Create the first dataset\n",
    "raw1 = {'subjid': ['01-001', '01-002', '01-003', '02-001'],\n",
    "      'sysbp': [154, 152, 148, 149],\n",
    "      'diabp': [44, 48, 47, 50],\n",
    "      'weight': [90.5, 83, 78, 77]} ## dicionary\n",
    "df1 = pd.DataFrame(raw1)\n",
    "df1"
   ]
  },
  {
   "cell_type": "code",
   "execution_count": 7,
   "metadata": {},
   "outputs": [
    {
     "data": {
      "text/html": [
       "<div>\n",
       "<style scoped>\n",
       "    .dataframe tbody tr th:only-of-type {\n",
       "        vertical-align: middle;\n",
       "    }\n",
       "\n",
       "    .dataframe tbody tr th {\n",
       "        vertical-align: top;\n",
       "    }\n",
       "\n",
       "    .dataframe thead th {\n",
       "        text-align: right;\n",
       "    }\n",
       "</style>\n",
       "<table border=\"1\" class=\"dataframe\">\n",
       "  <thead>\n",
       "    <tr style=\"text-align: right;\">\n",
       "      <th></th>\n",
       "      <th>subjid</th>\n",
       "      <th>sysbp</th>\n",
       "      <th>diabp</th>\n",
       "      <th>weight</th>\n",
       "      <th>hr</th>\n",
       "    </tr>\n",
       "  </thead>\n",
       "  <tbody>\n",
       "    <tr>\n",
       "      <th>0</th>\n",
       "      <td>01-001</td>\n",
       "      <td>154</td>\n",
       "      <td>44</td>\n",
       "      <td>90.5</td>\n",
       "      <td>65</td>\n",
       "    </tr>\n",
       "    <tr>\n",
       "      <th>1</th>\n",
       "      <td>01-002</td>\n",
       "      <td>152</td>\n",
       "      <td>48</td>\n",
       "      <td>83.0</td>\n",
       "      <td>70</td>\n",
       "    </tr>\n",
       "    <tr>\n",
       "      <th>2</th>\n",
       "      <td>01-003</td>\n",
       "      <td>148</td>\n",
       "      <td>47</td>\n",
       "      <td>78.0</td>\n",
       "      <td>72</td>\n",
       "    </tr>\n",
       "    <tr>\n",
       "      <th>3</th>\n",
       "      <td>02-001</td>\n",
       "      <td>150</td>\n",
       "      <td>50</td>\n",
       "      <td>77.0</td>\n",
       "      <td>68</td>\n",
       "    </tr>\n",
       "  </tbody>\n",
       "</table>\n",
       "</div>"
      ],
      "text/plain": [
       "   subjid  sysbp  diabp  weight  hr\n",
       "0  01-001    154     44    90.5  65\n",
       "1  01-002    152     48    83.0  70\n",
       "2  01-003    148     47    78.0  72\n",
       "3  02-001    150     50    77.0  68"
      ]
     },
     "execution_count": 7,
     "metadata": {},
     "output_type": "execute_result"
    }
   ],
   "source": [
    "## Create the second dataset\n",
    "raw2 = {'subjid': ['01-001', '01-002', '01-003', '02-001'],\n",
    "      'sysbp': [154, 152, 148, 150],\n",
    "      'diabp': [44, 48, 47, 50],\n",
    "      'weight': [90.5, 83, 78, 77],\n",
    "       'hr': [65,70,72,68]} ## dicionary\n",
    "df2 = pd.DataFrame(raw2)\n",
    "df2"
   ]
  },
  {
   "cell_type": "markdown",
   "metadata": {},
   "source": [
    "### Proc Compare"
   ]
  },
  {
   "cell_type": "code",
   "execution_count": 9,
   "metadata": {},
   "outputs": [],
   "source": [
    "import datacompy  ## need to install \"pip install datacompy\" in C:\\Users\\(your name)\\Anaconda3\\Scripts. "
   ]
  },
  {
   "cell_type": "code",
   "execution_count": 12,
   "metadata": {},
   "outputs": [
    {
     "name": "stdout",
     "output_type": "stream",
     "text": [
      "DataComPy Comparison\n",
      "--------------------\n",
      "\n",
      "DataFrame Summary\n",
      "-----------------\n",
      "\n",
      "  DataFrame  Columns  Rows\n",
      "0       df1        4     4\n",
      "1       df2        5     4\n",
      "\n",
      "Column Summary\n",
      "--------------\n",
      "\n",
      "Number of columns in common: 4\n",
      "Number of columns in df1 but not in df2: 0\n",
      "Number of columns in df2 but not in df1: 1\n",
      "\n",
      "Row Summary\n",
      "-----------\n",
      "\n",
      "Matched on: subjid\n",
      "Any duplicates on match values: No\n",
      "Absolute Tolerance: 0\n",
      "Relative Tolerance: 0\n",
      "Number of rows in common: 4\n",
      "Number of rows in df1 but not in df2: 0\n",
      "Number of rows in df2 but not in df1: 0\n",
      "\n",
      "Number of rows with some compared columns unequal: 1\n",
      "Number of rows with all compared columns equal: 3\n",
      "\n",
      "Column Comparison\n",
      "-----------------\n",
      "\n",
      "Number of columns compared with some values unequal: 1\n",
      "Number of columns compared with all values equal: 3\n",
      "Total number of values which compare unequal: 1\n",
      "\n",
      "Columns with Unequal Values or Types\n",
      "------------------------------------\n",
      "\n",
      "  Column df1 dtype df2 dtype  # Unequal  Max Diff  # Null Diff\n",
      "0  sysbp     int64     int64          1       1.0            0\n",
      "\n",
      "Sample Rows with Unequal Values\n",
      "-------------------------------\n",
      "\n",
      "   subjid  sysbp (df1)  sysbp (df2)\n",
      "3  02-001          149          150\n",
      "\n",
      "\n"
     ]
    }
   ],
   "source": [
    "## comparison \n",
    "compare = datacompy.Compare(df1, df2, join_columns='subjid')\n",
    "print(compare.report())"
   ]
  }
 ],
 "metadata": {
  "kernelspec": {
   "display_name": "Python 3",
   "language": "python",
   "name": "python3"
  },
  "language_info": {
   "codemirror_mode": {
    "name": "ipython",
    "version": 3
   },
   "file_extension": ".py",
   "mimetype": "text/x-python",
   "name": "python",
   "nbconvert_exporter": "python",
   "pygments_lexer": "ipython3",
   "version": "3.6.8"
  }
 },
 "nbformat": 4,
 "nbformat_minor": 2
}
