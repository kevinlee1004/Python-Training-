{
 "cells": [
  {
   "cell_type": "markdown",
   "metadata": {},
   "source": [
    "\n",
    "# Part 2 - Basic Data Wrangling and Functions/Classes\n",
    "\n",
    "- IF Statement    \n",
    "- FOR statement\n",
    "- WHILE statement\n",
    "- FUNCTION\n",
    "- CLASS\n",
    " "
   ]
  },
  {
   "cell_type": "markdown",
   "metadata": {},
   "source": [
    "## Conditional statement\n",
    "The following conditional statements that Python support\n",
    "- Equality: ==\n",
    "- Not Equal: !=\n",
    "- greater than: >\n",
    "- less than: <\n",
    "- greater than or equal to: >=\n",
    "- less than or equal to: <=\n",
    "- in: in\n",
    "- Not in: not in\n",
    "\n",
    "The followings are conditional function\n",
    "- if\n",
    "- elif: else if\n",
    "- else"
   ]
  },
  {
   "cell_type": "code",
   "execution_count": 6,
   "metadata": {},
   "outputs": [
    {
     "name": "stdout",
     "output_type": "stream",
     "text": [
      "True\n",
      "False\n",
      "True\n",
      "<class 'bool'>\n"
     ]
    }
   ],
   "source": [
    "race = 'white'  ## assigning\n",
    "print(race == 'white') ## comparison\n",
    "print(race == 'black')\n",
    "\n",
    "## assign comparison to \n",
    "ans = race=='white'\n",
    "print(ans)\n",
    "print(type(ans))"
   ]
  },
  {
   "cell_type": "markdown",
   "metadata": {},
   "source": [
    "Boolean value is either True or False"
   ]
  },
  {
   "cell_type": "code",
   "execution_count": 9,
   "metadata": {},
   "outputs": [
    {
     "name": "stdout",
     "output_type": "stream",
     "text": [
      "Admission price is $10\n"
     ]
    }
   ],
   "source": [
    "## if and elif statement\n",
    "age = 5\n",
    "\n",
    "if age < 4:\n",
    "    print(\"Admisison price is $0\")\n",
    "elif age < 12:\n",
    "    print(\"Admission price is $10\")\n",
    "else:\n",
    "    print(\"Admission price is $20\")"
   ]
  },
  {
   "cell_type": "code",
   "execution_count": 20,
   "metadata": {},
   "outputs": [
    {
     "name": "stdout",
     "output_type": "stream",
     "text": [
      "The age of 5 is a correct age\n",
      "The age of 5 is not a correct age\n",
      "He is 5 years old. He is greater than or equal to 5\n",
      "He is 5 years old. He is greater than 4\n"
     ]
    }
   ],
   "source": [
    "## comparison statements\n",
    "age = 5\n",
    "if age == 5:\n",
    "    print(\"The age of \" + str(age) + \" is a correct age\")\n",
    "\n",
    "if age != 6:\n",
    "    print(\"The age of \" + str(age) + \" is not a correct age\")\n",
    "    \n",
    "if age >= 5:\n",
    "    print(\"He is \" + str(age) + \" years old. He is greater than or equal to 5\")\n",
    "    \n",
    "if age > 4:\n",
    "    print(\"He is \" + str(age) + \" years old. He is greater than 4\")"
   ]
  },
  {
   "cell_type": "code",
   "execution_count": 12,
   "metadata": {},
   "outputs": [
    {
     "name": "stdout",
     "output_type": "stream",
     "text": [
      "weight\n",
      "height\n",
      "blood pressure\n"
     ]
    }
   ],
   "source": [
    "## use \"in\" comparision and list class\n",
    "list_vital = ['weight','blood pressure','height']\n",
    "\n",
    "if 'weight' in list_vital:\n",
    "    print('weight')\n",
    "if 'height' in list_vital:\n",
    "    print('height')\n",
    "if 'blood pressure' in list_vital:\n",
    "    print('blood pressure')"
   ]
  },
  {
   "cell_type": "code",
   "execution_count": 13,
   "metadata": {},
   "outputs": [
    {
     "name": "stdout",
     "output_type": "stream",
     "text": [
      "weight\n",
      "height\n",
      "blood pressure\n"
     ]
    }
   ],
   "source": [
    "### use tuple class\n",
    "list_vital = ('weight','blood pressure','height')\n",
    "\n",
    "if 'weight' in list_vital:\n",
    "    print('weight')\n",
    "if 'height' in list_vital:\n",
    "    print('height')\n",
    "if 'blood pressure' in list_vital:\n",
    "    print('blood pressure')"
   ]
  },
  {
   "cell_type": "markdown",
   "metadata": {},
   "source": [
    "## For statement\n",
    "\"for\" loop is used for iterating over sequence (list, tuple, set, dictionary, or string)"
   ]
  },
  {
   "cell_type": "code",
   "execution_count": 23,
   "metadata": {},
   "outputs": [
    {
     "name": "stdout",
     "output_type": "stream",
     "text": [
      "mild\n",
      "moderate\n",
      "severe\n"
     ]
    }
   ],
   "source": [
    "## using FOR loops with list\n",
    "CT_AESEV = ['mild', 'moderate', 'severe']\n",
    "for ct in CT_AESEV:\n",
    "    print(ct)"
   ]
  },
  {
   "cell_type": "code",
   "execution_count": 24,
   "metadata": {},
   "outputs": [
    {
     "name": "stdout",
     "output_type": "stream",
     "text": [
      "Key: subjid\n",
      "Value: 001-002\n",
      "Key: sex\n",
      "Value: female\n",
      "Key: race\n",
      "Value: asian\n"
     ]
    }
   ],
   "source": [
    "## For loop for dictionary\n",
    "subject3 = {'subjid': '001-002', 'sex':'female', 'race':'asian'}\n",
    "for key, value in subject3.items():\n",
    "    print(\"Key: \" + key)\n",
    "    print(\"Value: \" + value)"
   ]
  },
  {
   "cell_type": "markdown",
   "metadata": {},
   "source": [
    "## While statement\n",
    "\"for\" loop goes through a collection of items and executes codes for each items. \n",
    "\"while\" loop runs as long as a certain condition is met."
   ]
  },
  {
   "cell_type": "code",
   "execution_count": 25,
   "metadata": {},
   "outputs": [
    {
     "name": "stdout",
     "output_type": "stream",
     "text": [
      "5\n",
      "4\n",
      "3\n",
      "2\n",
      "1\n"
     ]
    }
   ],
   "source": [
    "## example of while statement\n",
    "num = 5\n",
    "while num != 0:\n",
    "    print(num)\n",
    "    num -= 1\n",
    "    "
   ]
  },
  {
   "cell_type": "markdown",
   "metadata": {},
   "source": [
    "## Functions\n",
    "Functions in Python are the assigned blocks of codes that are designed to do a certain specific job. \n",
    "\n",
    "Its structure is \n",
    "def name(arguments):\n",
    "    codes\n",
    "    \n",
    "    return values\n",
    "    \n",
    "name(arguments)"
   ]
  },
  {
   "cell_type": "code",
   "execution_count": 26,
   "metadata": {
    "collapsed": true
   },
   "outputs": [],
   "source": [
    "## simple function\n",
    "def print_hello():\n",
    "    print(\"Hello\")\n"
   ]
  },
  {
   "cell_type": "code",
   "execution_count": 27,
   "metadata": {},
   "outputs": [
    {
     "name": "stdout",
     "output_type": "stream",
     "text": [
      "Hello\n"
     ]
    }
   ],
   "source": [
    "print_hello()"
   ]
  },
  {
   "cell_type": "code",
   "execution_count": 28,
   "metadata": {
    "collapsed": true
   },
   "outputs": [],
   "source": [
    "## using arguments in function\n",
    "def print_name(name):\n",
    "    print(\"Hello, \" + name)"
   ]
  },
  {
   "cell_type": "code",
   "execution_count": 29,
   "metadata": {},
   "outputs": [
    {
     "name": "stdout",
     "output_type": "stream",
     "text": [
      "Hello, John\n"
     ]
    }
   ],
   "source": [
    "print_name('John')"
   ]
  },
  {
   "cell_type": "code",
   "execution_count": 30,
   "metadata": {},
   "outputs": [
    {
     "name": "stdout",
     "output_type": "stream",
     "text": [
      "Hello, Mary\n"
     ]
    }
   ],
   "source": [
    "print_name(name='Mary')"
   ]
  },
  {
   "cell_type": "code",
   "execution_count": 43,
   "metadata": {
    "collapsed": true
   },
   "outputs": [],
   "source": [
    "## Returning values \n",
    "def ae_sev(ae_sev_code):\n",
    "    ct_aesev_conv = {1:'mild', 2:'moderate', 3:'severe'}\n",
    "    ae_sev = \"Not Available\"\n",
    "    \n",
    "    for key, value in ct_aesev_conv.items():\n",
    "        if ae_sev_code == key:\n",
    "            ae_sev = value\n",
    "    return ae_sev\n",
    "    "
   ]
  },
  {
   "cell_type": "code",
   "execution_count": 45,
   "metadata": {},
   "outputs": [
    {
     "name": "stdout",
     "output_type": "stream",
     "text": [
      "mild\n"
     ]
    }
   ],
   "source": [
    "## call ae_sev function\n",
    "AESEV = ae_sev(1)\n",
    "print(AESEV)"
   ]
  },
  {
   "attachments": {
    "image.png": {
     "image/png": "[encoded data removed]"
    }
   },
   "cell_type": "markdown",
   "metadata": {},
   "source": [
    "### import function from modules\n",
    "Call \n",
    "![image.png](attachment:image.png)"
   ]
  },
  {
   "cell_type": "code",
   "execution_count": 54,
   "metadata": {},
   "outputs": [
    {
     "name": "stdout",
     "output_type": "stream",
     "text": [
      "You are John\n"
     ]
    }
   ],
   "source": [
    "## importing entire module of utility.py in the same directory\n",
    "import utility\n",
    "utility.print_function(\"John\")"
   ]
  },
  {
   "cell_type": "code",
   "execution_count": 55,
   "metadata": {},
   "outputs": [
    {
     "name": "stdout",
     "output_type": "stream",
     "text": [
      "You are Steve\n"
     ]
    }
   ],
   "source": [
    "## using alias from module\n",
    "import utility as ut\n",
    "ut.print_function(\"Steve\")"
   ]
  },
  {
   "cell_type": "code",
   "execution_count": 56,
   "metadata": {},
   "outputs": [
    {
     "name": "stdout",
     "output_type": "stream",
     "text": [
      "You are Phil\n"
     ]
    }
   ],
   "source": [
    "## importing specific functions from module\n",
    "from utility import print_function\n",
    "print_function(\"Phil\")"
   ]
  },
  {
   "cell_type": "code",
   "execution_count": 57,
   "metadata": {},
   "outputs": [
    {
     "name": "stdout",
     "output_type": "stream",
     "text": [
      "You are Mary\n"
     ]
    }
   ],
   "source": [
    "## importing all functions from module\n",
    "from utility import *\n",
    "print_function(\"Mary\")"
   ]
  },
  {
   "cell_type": "markdown",
   "metadata": {},
   "source": [
    "## Lambda - anomouos function (a function without the name)"
   ]
  },
  {
   "cell_type": "code",
   "execution_count": 23,
   "metadata": {},
   "outputs": [
    {
     "name": "stdout",
     "output_type": "stream",
     "text": [
      "81\n",
      "<class 'function'>\n"
     ]
    }
   ],
   "source": [
    "## normal function\n",
    "def sqrt(x):\n",
    "    return x*x\n",
    "print(sqrt(9))\n",
    "print(type(sqrt))"
   ]
  },
  {
   "cell_type": "code",
   "execution_count": 24,
   "metadata": {},
   "outputs": [
    {
     "data": {
      "text/plain": [
       "function"
      ]
     },
     "execution_count": 24,
     "metadata": {},
     "output_type": "execute_result"
    }
   ],
   "source": [
    "sqrt2 = lambda x: x*x\n",
    "sqrt2(9)\n",
    "type(sqrt2)"
   ]
  },
  {
   "cell_type": "markdown",
   "metadata": {},
   "source": [
    "### difference between function and lambda\n",
    "- function need function name and need to pass value and need return statement\n",
    "- lambda can be anywhere.  It is simple. \n",
    "\n",
    "### The main ways lambda expressions are different from def:\n",
    "\n",
    "- They can be immediately passed around (no variable needed)\n",
    "- They can only have a single line of code within them\n",
    "- They return automatically\n",
    "- They can’t have a docstring and they don’t have a name\n",
    "- They use a different and unfamiliar syntax"
   ]
  },
  {
   "cell_type": "code",
   "execution_count": 38,
   "metadata": {},
   "outputs": [
    {
     "name": "stdout",
     "output_type": "stream",
     "text": [
      "[(1, 2), (4, 1), (9, 10), (13, -3)]\n",
      "<class 'list'>\n",
      "\n",
      "new sorted a using function:  [(13, -3), (4, 1), (1, 2), (9, 10)]\n",
      "Each iteration result :  -3\n",
      "Each iteration result :  1\n",
      "Each iteration result :  2\n",
      "Each iteration result :  10\n",
      "type of first a :  <class 'tuple'>\n",
      "\n",
      "new sorted a using lambda:  [(13, -3), (4, 1), (1, 2), (9, 10)]\n"
     ]
    }
   ],
   "source": [
    "a = [(1, 2), (4, 1), (9, 10), (13, -3)]\n",
    "a.sort()\n",
    "print(a)\n",
    "print(type(a))\n",
    "\n",
    "## pick up the second value in each tuple\n",
    "def sortSecond(val): \n",
    "    return val[1] \n",
    "## sort using function\n",
    "a.sort(key= sortSecond)\n",
    "print(\"\\nnew sorted a using function: \",a)\n",
    "for i in a:\n",
    "    print(\"Each iteration result : \", sortSecond(i))\n",
    "print(\"type of first a : \",type(a[1]))\n",
    "\n",
    "## sort using lambda\n",
    "a.sort(key = lambda x: x[1])\n",
    "print(\"\\nnew sorted a using lambda: \",a)"
   ]
  },
  {
   "cell_type": "markdown",
   "metadata": {
    "collapsed": true
   },
   "source": [
    "## Classes\n",
    "Classes are objects that bind data and functionality together.  \n",
    "Class objects support attribute references and instaniation.\n",
    "- attribute: the attribute of class\n",
    "- instance: create new objects from Class"
   ]
  },
  {
   "cell_type": "code",
   "execution_count": 13,
   "metadata": {
    "collapsed": true
   },
   "outputs": [],
   "source": [
    "## create my_class class object\n",
    "class my_class():\n",
    "    i = 1"
   ]
  },
  {
   "cell_type": "code",
   "execution_count": 14,
   "metadata": {},
   "outputs": [
    {
     "name": "stdout",
     "output_type": "stream",
     "text": [
      "1\n",
      "Type of my class class :  <class 'type'>\n",
      "Type of mine instance :  <class 'type'>\n",
      "1\n"
     ]
    }
   ],
   "source": [
    "## print attribute of my_class class\n",
    "print(my_class.i)\n",
    "\n",
    "## create instance from my_class class\n",
    "mine = my_class ## create instance from class\n",
    "print(\"Type of my class class : \", type(my_class))\n",
    "print(\"Type of mine instance : \", type(mine))\n",
    "print(mine.i)"
   ]
  },
  {
   "cell_type": "code",
   "execution_count": 1,
   "metadata": {
    "collapsed": true
   },
   "outputs": [],
   "source": [
    "## Create class object with attribute and method\n",
    "class my_class2():\n",
    "    def __init__(self, name, course):  ## Attribute- \"self\" will enable all the attributes can be used in all other functions(method)\n",
    "        self.name = name\n",
    "        self.course = course\n",
    "    \n",
    "    def print_report(self): ## method( a function that's part of a class). \"self\" can call all the attributes \n",
    "        print(\"Your name is \", self.name)\n",
    "        print(\"You will take \", self.course)\n",
    "    "
   ]
  },
  {
   "cell_type": "code",
   "execution_count": 2,
   "metadata": {},
   "outputs": [
    {
     "name": "stdout",
     "output_type": "stream",
     "text": [
      "The attribute of instance:  John\n",
      "Call the method: \n",
      "\n",
      "Your name is  John\n",
      "You will take  Computer\n"
     ]
    }
   ],
   "source": [
    "## Use class and object (an instance of object)\n",
    "## Class - my_class2\n",
    "## object - my_intance\n",
    "my_instance = my_class2('John', 'Computer') # object - instance of Class\n",
    "print(\"The attribute of instance: \", my_instance.name)\n",
    "print(\"Call the method: \\n\")\n",
    "my_instance.print_report()"
   ]
  },
  {
   "cell_type": "code",
   "execution_count": 10,
   "metadata": {},
   "outputs": [
    {
     "name": "stdout",
     "output_type": "stream",
     "text": [
      "list of attributes and methods :  ['__class__', '__delattr__', '__dict__', '__dir__', '__doc__', '__eq__', '__format__', '__ge__', '__getattribute__', '__gt__', '__hash__', '__init__', '__init_subclass__', '__le__', '__lt__', '__module__', '__ne__', '__new__', '__reduce__', '__reduce_ex__', '__repr__', '__setattr__', '__sizeof__', '__str__', '__subclasshook__', '__weakref__', 'print_report']\n",
      "list of attributes and methods :  dict_keys(['__module__', '__init__', 'print_report', '__dict__', '__weakref__', '__doc__'])\n",
      "list of attributes and methods :  {'__module__': '__main__', '__init__': <function my_class2.__init__ at 0x000001ECC5B75E18>, 'print_report': <function my_class2.print_report at 0x000001ECC5B75C80>, '__dict__': <attribute '__dict__' of 'my_class2' objects>, '__weakref__': <attribute '__weakref__' of 'my_class2' objects>, '__doc__': None}\n"
     ]
    }
   ],
   "source": [
    "#print(\"list of attributes and methods : \", methods(my_class2))\n",
    "print(\"list of attributes and methods : \", dir(my_class2))\n",
    "\n",
    "print(\"list of attributes and methods : \", my_class2.__dict__.keys())\n",
    "print(\"list of attributes and methods : \", vars(my_class2))"
   ]
  },
  {
   "cell_type": "code",
   "execution_count": 15,
   "metadata": {},
   "outputs": [
    {
     "name": "stdout",
     "output_type": "stream",
     "text": [
      "list of attributes :  {'name': 'John', 'course': 'Computer'}\n",
      "list of attributes and methods :  ['__class__', '__delattr__', '__dict__', '__dir__', '__doc__', '__eq__', '__format__', '__ge__', '__getattribute__', '__gt__', '__hash__', '__init__', '__init_subclass__', '__le__', '__lt__', '__module__', '__ne__', '__new__', '__reduce__', '__reduce_ex__', '__repr__', '__setattr__', '__sizeof__', '__str__', '__subclasshook__', '__weakref__', 'course', 'name', 'print_report']\n",
      "list of attributes and methods :  {'name': 'John', 'course': 'Computer'}\n"
     ]
    }
   ],
   "source": [
    "### the information of the object\n",
    "print(\"list of attributes : \", vars(my_instance)) ## list of attributes\n",
    "print(\"list of attributes and methods : \", dir(my_instance))\n",
    "\n",
    "print(\"list of attributes and methods : \", my_instance.__dict__)\n"
   ]
  },
  {
   "cell_type": "code",
   "execution_count": null,
   "metadata": {
    "collapsed": true
   },
   "outputs": [],
   "source": []
  }
 ],
 "metadata": {
  "anaconda-cloud": {},
  "kernelspec": {
   "display_name": "Python 3",
   "language": "python",
   "name": "python3"
  },
  "language_info": {
   "codemirror_mode": {
    "name": "ipython",
    "version": 3
   },
   "file_extension": ".py",
   "mimetype": "text/x-python",
   "name": "python",
   "nbconvert_exporter": "python",
   "pygments_lexer": "ipython3",
   "version": "3.6.3"
  }
 },
 "nbformat": 4,
 "nbformat_minor": 1
}
