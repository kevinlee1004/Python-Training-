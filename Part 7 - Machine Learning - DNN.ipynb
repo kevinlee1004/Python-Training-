{
 "cells": [
  {
   "cell_type": "markdown",
   "metadata": {},
   "source": [
    "# Part 7 - Machine Learning - DNN\n",
    "This example will show how to prepare Machine Learning process\n",
    "- set up environment including importing machine learning package and setting up parameter\n",
    "- Prepare placeholder\n",
    "- Build DNN architecture\n",
    "- Set up loss function\n",
    "- Set up gradient descent and learning rate\n",
    "- Set up evaluation \n",
    "- Initialize placeholder\n",
    "- Import data\n",
    "- Expore data such as data visualization\n",
    "- Prepare train and validation data\n",
    "- Train the model with train data \n",
    "- Validate the trained model with validation data"
   ]
  },
  {
   "cell_type": "code",
   "execution_count": 1,
   "metadata": {
    "collapsed": true
   },
   "outputs": [],
   "source": [
    "### Import TensorFlow\n",
    "import tensorflow as tf\n",
    "import numpy as np\n",
    "\n",
    "n_inputs = 28*28  # MNIST\n",
    "n_hidden1 = 300\n",
    "n_hidden2 = 100\n",
    "n_outputs = 10"
   ]
  },
  {
   "cell_type": "code",
   "execution_count": 2,
   "metadata": {
    "collapsed": true,
    "scrolled": true
   },
   "outputs": [],
   "source": [
    "### Prepare Tensorflow placeholder\n",
    "X = tf.placeholder(tf.float32, shape=(None, n_inputs), name=\"X\")\n",
    "y = tf.placeholder(tf.int64, shape=(None), name=\"y\") "
   ]
  },
  {
   "cell_type": "code",
   "execution_count": 3,
   "metadata": {
    "collapsed": true
   },
   "outputs": [],
   "source": [
    "### Build DLL architectture - hidden & output layers\n",
    "hidden1 = tf.layers.dense(X, n_hidden1, name=\"hidden1\", activation=tf.nn.relu)\n",
    "hidden2 = tf.layers.dense(hidden1, n_hidden2, name=\"hidden2\", activation=tf.nn.relu)\n",
    "logits = tf.layers.dense(hidden2, n_outputs, name=\"outputs\")"
   ]
  },
  {
   "cell_type": "code",
   "execution_count": 4,
   "metadata": {
    "collapsed": true
   },
   "outputs": [],
   "source": [
    "### Set up loss function\n",
    "xentropy = tf.nn.sparse_softmax_cross_entropy_with_logits(labels=y, logits=logits)\n",
    "loss = tf.reduce_mean(xentropy, name=\"loss\")\n",
    "loss_summary = tf.summary.scalar('log_loss', loss)"
   ]
  },
  {
   "cell_type": "code",
   "execution_count": 5,
   "metadata": {
    "collapsed": true
   },
   "outputs": [],
   "source": [
    "### Set up gradient descent and learning rate\n",
    "\n",
    "learning_rate = 0.01\n",
    "\n",
    "optimizer = tf.train.GradientDescentOptimizer(learning_rate)\n",
    "training_op = optimizer.minimize(loss)"
   ]
  },
  {
   "cell_type": "code",
   "execution_count": 6,
   "metadata": {
    "collapsed": true
   },
   "outputs": [],
   "source": [
    "### Set up Evaludation function\n",
    "correct = tf.nn.in_top_k(logits, y, 1)\n",
    "accuracy = tf.reduce_mean(tf.cast(correct, tf.float32))\n",
    "accuracy_summary = tf.summary.scalar('accuracy', accuracy)"
   ]
  },
  {
   "cell_type": "code",
   "execution_count": 7,
   "metadata": {
    "collapsed": true
   },
   "outputs": [],
   "source": [
    "### Initialize all the variables\n",
    "init = tf.global_variables_initializer()\n",
    "saver = tf.train.Saver()"
   ]
  },
  {
   "cell_type": "code",
   "execution_count": 8,
   "metadata": {},
   "outputs": [
    {
     "name": "stderr",
     "output_type": "stream",
     "text": [
      "C:\\Users\\kevinlee\\Anaconda3\\lib\\site-packages\\h5py\\__init__.py:34: FutureWarning: Conversion of the second argument of issubdtype from `float` to `np.floating` is deprecated. In future, it will be treated as `np.float64 == np.dtype(float).type`.\n",
      "  from ._conv import register_converters as _register_converters\n"
     ]
    },
    {
     "name": "stdout",
     "output_type": "stream",
     "text": [
      "Extracting /tmp/data/train-images-idx3-ubyte.gz\n",
      "Extracting /tmp/data/train-labels-idx1-ubyte.gz\n",
      "Extracting /tmp/data/t10k-images-idx3-ubyte.gz\n",
      "Extracting /tmp/data/t10k-labels-idx1-ubyte.gz\n"
     ]
    }
   ],
   "source": [
    "### Import data\n",
    "from tensorflow.examples.tutorials.mnist import input_data\n",
    "mnist = input_data.read_data_sets(\"/tmp/data/\")"
   ]
  },
  {
   "cell_type": "code",
   "execution_count": 9,
   "metadata": {},
   "outputs": [
    {
     "name": "stdout",
     "output_type": "stream",
     "text": [
      "Shape of input Train data :  (55000, 784)\n",
      "Shape of input Test data :  (10000, 784)\n",
      "Sample Label data :  3\n",
      "Sample Image data :  [0.         0.         0.         0.         0.         0.\n",
      " 0.         0.         0.         0.         0.         0.\n",
      " 0.         0.         0.         0.         0.         0.\n",
      " 0.         0.         0.         0.         0.         0.\n",
      " 0.         0.         0.         0.         0.         0.\n",
      " 0.         0.         0.         0.         0.         0.\n",
      " 0.         0.         0.         0.         0.         0.\n",
      " 0.         0.         0.         0.         0.         0.\n",
      " 0.         0.         0.         0.         0.         0.\n",
      " 0.         0.         0.         0.         0.         0.\n",
      " 0.         0.         0.         0.         0.         0.\n",
      " 0.         0.         0.         0.         0.         0.\n",
      " 0.         0.         0.         0.         0.         0.\n",
      " 0.         0.         0.         0.         0.         0.\n",
      " 0.         0.         0.         0.         0.         0.\n",
      " 0.         0.         0.         0.         0.         0.\n",
      " 0.         0.         0.         0.         0.         0.\n",
      " 0.         0.         0.         0.         0.         0.\n",
      " 0.         0.         0.         0.         0.         0.\n",
      " 0.         0.         0.         0.         0.         0.\n",
      " 0.         0.         0.         0.         0.         0.\n",
      " 0.         0.         0.         0.         0.         0.\n",
      " 0.         0.         0.         0.         0.         0.\n",
      " 0.         0.         0.         0.         0.         0.\n",
      " 0.         0.         0.         0.         0.         0.\n",
      " 0.         0.         0.         0.12156864 0.5176471  0.9960785\n",
      " 0.9921569  0.9960785  0.8352942  0.32156864 0.         0.\n",
      " 0.         0.         0.         0.         0.         0.\n",
      " 0.         0.         0.         0.         0.         0.\n",
      " 0.         0.         0.         0.         0.         0.08235294\n",
      " 0.5568628  0.91372555 0.98823535 0.9921569  0.98823535 0.9921569\n",
      " 0.98823535 0.8745099  0.07843138 0.         0.         0.\n",
      " 0.         0.         0.         0.         0.         0.\n",
      " 0.         0.         0.         0.         0.         0.\n",
      " 0.         0.         0.48235297 0.9960785  0.9921569  0.9960785\n",
      " 0.9921569  0.87843144 0.7960785  0.7960785  0.8745099  1.\n",
      " 0.8352942  0.         0.         0.         0.         0.\n",
      " 0.         0.         0.         0.         0.         0.\n",
      " 0.         0.         0.         0.         0.         0.\n",
      " 0.7960785  0.9921569  0.98823535 0.9921569  0.8313726  0.07843138\n",
      " 0.         0.         0.2392157  0.9921569  0.98823535 0.\n",
      " 0.         0.         0.         0.         0.         0.\n",
      " 0.         0.         0.         0.         0.         0.\n",
      " 0.         0.         0.         0.16078432 0.95294124 0.87843144\n",
      " 0.7960785  0.7176471  0.16078432 0.59607846 0.11764707 0.\n",
      " 0.         1.         0.9921569  0.40000004 0.         0.\n",
      " 0.         0.         0.         0.         0.         0.\n",
      " 0.         0.         0.         0.         0.         0.\n",
      " 0.         0.         0.15686275 0.07843138 0.         0.\n",
      " 0.40000004 0.9921569  0.19607845 0.         0.32156864 0.9921569\n",
      " 0.98823535 0.07843138 0.         0.         0.         0.\n",
      " 0.         0.         0.         0.         0.         0.\n",
      " 0.         0.         0.         0.         0.         0.\n",
      " 0.         0.         0.         0.         0.32156864 0.83921576\n",
      " 0.12156864 0.4431373  0.91372555 0.9960785  0.91372555 0.\n",
      " 0.         0.         0.         0.         0.         0.\n",
      " 0.         0.         0.         0.         0.         0.\n",
      " 0.         0.         0.         0.         0.         0.24313727\n",
      " 0.40000004 0.32156864 0.16078432 0.9921569  0.909804   0.9921569\n",
      " 0.98823535 0.91372555 0.19607845 0.         0.         0.\n",
      " 0.         0.         0.         0.         0.         0.\n",
      " 0.         0.         0.         0.         0.         0.\n",
      " 0.         0.         0.         0.59607846 0.9921569  0.9960785\n",
      " 0.9921569  0.9960785  0.9921569  0.9960785  0.91372555 0.48235297\n",
      " 0.         0.         0.         0.         0.         0.\n",
      " 0.         0.         0.         0.         0.         0.\n",
      " 0.         0.         0.         0.         0.         0.\n",
      " 0.         0.59607846 0.98823535 0.9921569  0.98823535 0.9921569\n",
      " 0.98823535 0.75294125 0.19607845 0.         0.         0.\n",
      " 0.         0.         0.         0.         0.         0.\n",
      " 0.         0.         0.         0.         0.         0.\n",
      " 0.         0.         0.         0.         0.         0.24313727\n",
      " 0.7176471  0.7960785  0.95294124 0.9960785  0.9921569  0.24313727\n",
      " 0.         0.         0.         0.         0.         0.\n",
      " 0.         0.         0.         0.         0.         0.\n",
      " 0.         0.         0.         0.         0.         0.\n",
      " 0.         0.         0.         0.         0.         0.\n",
      " 0.15686275 0.6745098  0.98823535 0.7960785  0.07843138 0.\n",
      " 0.         0.         0.         0.         0.         0.\n",
      " 0.         0.         0.         0.         0.         0.\n",
      " 0.         0.         0.08235294 0.         0.         0.\n",
      " 0.         0.         0.         0.         0.         0.\n",
      " 0.7176471  0.9960785  0.43921572 0.         0.         0.\n",
      " 0.         0.         0.         0.         0.         0.\n",
      " 0.         0.         0.         0.         0.         0.24313727\n",
      " 0.7960785  0.6392157  0.         0.         0.         0.\n",
      " 0.         0.         0.         0.         0.2392157  0.9921569\n",
      " 0.5921569  0.         0.         0.         0.         0.\n",
      " 0.         0.         0.         0.         0.         0.\n",
      " 0.         0.         0.08235294 0.83921576 0.75294125 0.\n",
      " 0.         0.         0.         0.         0.         0.\n",
      " 0.         0.04313726 0.8352942  0.9960785  0.5921569  0.\n",
      " 0.         0.         0.         0.         0.         0.\n",
      " 0.         0.         0.         0.         0.         0.\n",
      " 0.40000004 0.9921569  0.5921569  0.         0.         0.\n",
      " 0.         0.         0.         0.         0.16078432 0.8352942\n",
      " 0.98823535 0.9921569  0.43529415 0.         0.         0.\n",
      " 0.         0.         0.         0.         0.         0.\n",
      " 0.         0.         0.         0.         0.16078432 1.\n",
      " 0.8352942  0.36078432 0.20000002 0.         0.         0.12156864\n",
      " 0.36078432 0.6784314  0.9921569  0.9960785  0.9921569  0.5568628\n",
      " 0.         0.         0.         0.         0.         0.\n",
      " 0.         0.         0.         0.         0.         0.\n",
      " 0.         0.         0.         0.6745098  0.98823535 0.9921569\n",
      " 0.98823535 0.7960785  0.7960785  0.91372555 0.98823535 0.9921569\n",
      " 0.98823535 0.9921569  0.50980395 0.07843138 0.         0.\n",
      " 0.         0.         0.         0.         0.         0.\n",
      " 0.         0.         0.         0.         0.         0.\n",
      " 0.         0.08235294 0.7960785  1.         0.9921569  0.9960785\n",
      " 0.9921569  0.9960785  0.9921569  0.9568628  0.7960785  0.32156864\n",
      " 0.         0.         0.         0.         0.         0.\n",
      " 0.         0.         0.         0.         0.         0.\n",
      " 0.         0.         0.         0.         0.         0.\n",
      " 0.07843138 0.5921569  0.5921569  0.9921569  0.67058825 0.5921569\n",
      " 0.5921569  0.15686275 0.         0.         0.         0.\n",
      " 0.         0.         0.         0.         0.         0.\n",
      " 0.         0.         0.         0.         0.         0.\n",
      " 0.         0.         0.         0.         0.         0.\n",
      " 0.         0.         0.         0.         0.         0.\n",
      " 0.         0.         0.         0.         0.         0.\n",
      " 0.         0.         0.         0.         0.         0.\n",
      " 0.         0.         0.         0.         0.         0.\n",
      " 0.         0.         0.         0.         0.         0.\n",
      " 0.         0.         0.         0.         0.         0.\n",
      " 0.         0.         0.         0.         0.         0.\n",
      " 0.         0.         0.         0.         0.         0.\n",
      " 0.         0.         0.         0.         0.         0.\n",
      " 0.         0.         0.         0.         0.         0.\n",
      " 0.         0.         0.         0.         0.         0.\n",
      " 0.         0.         0.         0.         0.         0.\n",
      " 0.         0.         0.         0.        ]\n"
     ]
    }
   ],
   "source": [
    "### Data Exporation\n",
    "print(\"Shape of input Train data : \", mnist.train.images.shape)\n",
    "print(\"Shape of input Test data : \", mnist.test.images.shape)\n",
    "print(\"Sample Label data : \", mnist.train.labels[1])\n",
    "print(\"Sample Image data : \", mnist.train.images[1])"
   ]
  },
  {
   "cell_type": "code",
   "execution_count": 13,
   "metadata": {},
   "outputs": [
    {
     "name": "stdout",
     "output_type": "stream",
     "text": [
      "Y value is : [6]\n"
     ]
    },
    {
     "data": {
      "text/plain": [
       "<matplotlib.image.AxesImage at 0x1bf1e6054e0>"
      ]
     },
     "execution_count": 13,
     "metadata": {},
     "output_type": "execute_result"
    },
    {
     "data": {
      "image/png": "[encoded data removed]",
      "text/plain": [
       "<matplotlib.figure.Figure at 0x1bf1e407d68>"
      ]
     },
     "metadata": {},
     "output_type": "display_data"
    }
   ],
   "source": [
    "## import matplotlib packages\n",
    "import matplotlib\n",
    "import matplotlib.pyplot as plt\n",
    "## Jupyter notebook display \n",
    "%matplotlib inline\n",
    "\n",
    "### Data Visualzation\n",
    "X_1=mnist.train.next_batch(1)\n",
    "digit_image2 = X_1[0].reshape(28, 28)\n",
    "\n",
    "### Show that image\n",
    "print(\"Y value is :\", X_1[1])\n",
    "plt.imshow(digit_image2, cmap = matplotlib.cm.binary,\n",
    "           interpolation=\"nearest\")"
   ]
  },
  {
   "cell_type": "code",
   "execution_count": 14,
   "metadata": {},
   "outputs": [
    {
     "name": "stdout",
     "output_type": "stream",
     "text": [
      "Y value is : [8]\n"
     ]
    },
    {
     "data": {
      "text/plain": [
       "<matplotlib.image.AxesImage at 0x1bf1e7bd0b8>"
      ]
     },
     "execution_count": 14,
     "metadata": {},
     "output_type": "execute_result"
    },
    {
     "data": {
      "image/png": "[encoded data removed]",
      "text/plain": [
       "<matplotlib.figure.Figure at 0x1bf1e44e0b8>"
      ]
     },
     "metadata": {},
     "output_type": "display_data"
    }
   ],
   "source": [
    "### Data Visualization\n",
    "X_1=mnist.train.next_batch(1)\n",
    "digit_image2 = X_1[0].reshape(28, 28)\n",
    "\n",
    "### Show that image\n",
    "print(\"Y value is :\", X_1[1])\n",
    "plt.imshow(digit_image2, cmap = matplotlib.cm.binary,\n",
    "           interpolation=\"nearest\")"
   ]
  },
  {
   "cell_type": "code",
   "execution_count": 15,
   "metadata": {},
   "outputs": [
    {
     "name": "stdout",
     "output_type": "stream",
     "text": [
      "0 Train accuracy: 0.88 Test accuracy: 0.9079\n",
      "1 Train accuracy: 0.9 Test accuracy: 0.9206\n",
      "2 Train accuracy: 0.9 Test accuracy: 0.9329\n",
      "3 Train accuracy: 0.98 Test accuracy: 0.9361\n",
      "4 Train accuracy: 0.9 Test accuracy: 0.9417\n",
      "5 Train accuracy: 0.94 Test accuracy: 0.9477\n",
      "6 Train accuracy: 1.0 Test accuracy: 0.9509\n",
      "7 Train accuracy: 0.98 Test accuracy: 0.9547\n",
      "8 Train accuracy: 0.98 Test accuracy: 0.9571\n",
      "9 Train accuracy: 0.98 Test accuracy: 0.9602\n",
      "10 Train accuracy: 0.98 Test accuracy: 0.9598\n",
      "11 Train accuracy: 0.98 Test accuracy: 0.9638\n",
      "12 Train accuracy: 0.96 Test accuracy: 0.9629\n",
      "13 Train accuracy: 0.96 Test accuracy: 0.9658\n",
      "14 Train accuracy: 0.98 Test accuracy: 0.9679\n",
      "15 Train accuracy: 0.96 Test accuracy: 0.9681\n",
      "16 Train accuracy: 1.0 Test accuracy: 0.9696\n",
      "17 Train accuracy: 0.94 Test accuracy: 0.9703\n",
      "18 Train accuracy: 0.98 Test accuracy: 0.9706\n",
      "19 Train accuracy: 1.0 Test accuracy: 0.9712\n",
      "20 Train accuracy: 0.96 Test accuracy: 0.9721\n",
      "21 Train accuracy: 1.0 Test accuracy: 0.9732\n",
      "22 Train accuracy: 0.96 Test accuracy: 0.9733\n",
      "23 Train accuracy: 1.0 Test accuracy: 0.9729\n",
      "24 Train accuracy: 1.0 Test accuracy: 0.9746\n",
      "25 Train accuracy: 1.0 Test accuracy: 0.9749\n",
      "26 Train accuracy: 1.0 Test accuracy: 0.9748\n",
      "27 Train accuracy: 0.98 Test accuracy: 0.9746\n",
      "28 Train accuracy: 1.0 Test accuracy: 0.9755\n",
      "29 Train accuracy: 1.0 Test accuracy: 0.9761\n",
      "30 Train accuracy: 1.0 Test accuracy: 0.9766\n",
      "31 Train accuracy: 1.0 Test accuracy: 0.9758\n",
      "32 Train accuracy: 0.96 Test accuracy: 0.9761\n",
      "33 Train accuracy: 1.0 Test accuracy: 0.9759\n",
      "34 Train accuracy: 1.0 Test accuracy: 0.9759\n",
      "35 Train accuracy: 1.0 Test accuracy: 0.9767\n",
      "36 Train accuracy: 1.0 Test accuracy: 0.977\n",
      "37 Train accuracy: 1.0 Test accuracy: 0.9769\n",
      "38 Train accuracy: 1.0 Test accuracy: 0.9773\n",
      "39 Train accuracy: 1.0 Test accuracy: 0.9781\n"
     ]
    }
   ],
   "source": [
    "n_epochs = 40\n",
    "batch_size = 50\n",
    "\n",
    "### Train your model\n",
    "with tf.Session() as sess:\n",
    "    init.run()\n",
    "    for epoch in range(n_epochs):\n",
    "        for iteration in range(mnist.train.num_examples // batch_size):\n",
    "            X_batch, y_batch = mnist.train.next_batch(batch_size)\n",
    "            sess.run(training_op, feed_dict={X: X_batch, y: y_batch})\n",
    "        acc_train = accuracy.eval(feed_dict={X: X_batch, y: y_batch})\n",
    "        acc_test = accuracy.eval(feed_dict={X: mnist.test.images,\n",
    "                                            y: mnist.test.labels})\n",
    "        print(epoch, \"Train accuracy:\", acc_train, \"Test accuracy:\", acc_test)\n"
   ]
  },
  {
   "cell_type": "code",
   "execution_count": null,
   "metadata": {
    "collapsed": true
   },
   "outputs": [],
   "source": []
  }
 ],
 "metadata": {
  "kernelspec": {
   "display_name": "Python 3",
   "language": "python",
   "name": "python3"
  },
  "language_info": {
   "codemirror_mode": {
    "name": "ipython",
    "version": 3
   },
   "file_extension": ".py",
   "mimetype": "text/x-python",
   "name": "python",
   "nbconvert_exporter": "python",
   "pygments_lexer": "ipython3",
   "version": "3.6.3"
  },
  "nav_menu": {
   "height": "264px",
   "width": "369px"
  },
  "toc": {
   "navigate_menu": true,
   "number_sections": true,
   "sideBar": true,
   "threshold": 6,
   "toc_cell": false,
   "toc_section_display": "block",
   "toc_window_display": false
  }
 },
 "nbformat": 4,
 "nbformat_minor": 1
}
