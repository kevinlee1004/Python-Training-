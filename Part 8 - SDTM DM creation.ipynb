{
 "cells": [
  {
   "cell_type": "markdown",
   "metadata": {},
   "source": [
    "# Part 8 - SDTM DM dataset creation using Python\n",
    "This program can create SDTM DM SAS xpt dataset from EDC raw SAS datasets. "
   ]
  },
  {
   "cell_type": "code",
   "execution_count": 142,
   "metadata": {
    "collapsed": true
   },
   "outputs": [],
   "source": [
    "### Import modules\n",
    "from pandas import Series, DataFrame\n",
    "import pandas as pd\n",
    "import xport  ## write sas datasets to local drive\n",
    "from sas7bdat import SAS7BDAT  ## read SAS datasets from local drive"
   ]
  },
  {
   "cell_type": "markdown",
   "metadata": {},
   "source": [
    "## Prepare demog datasets"
   ]
  },
  {
   "cell_type": "code",
   "execution_count": 143,
   "metadata": {
    "collapsed": true,
    "scrolled": true
   },
   "outputs": [],
   "source": [
    "### Read Raw demog SAS datasets\n",
    "with open('./data/raw/demog.xpt', 'rb') as f: \n",
    "    df_dm = xport.to_columns(f)\n",
    "    df_dm2 = pd.DataFrame(df_dm) "
   ]
  },
  {
   "cell_type": "code",
   "execution_count": 144,
   "metadata": {
    "collapsed": true
   },
   "outputs": [],
   "source": [
    "### Prepare variables \n",
    "df_dm2['SEX'] = df_dm2.SEXC.replace(['Male','Female'], ['M','F']) # Create SEX variable\n",
    "df_dm2['DOMAIN'], df_dm2['COUNTRY'] = 'DM', 'USA' # Create varialbes DOMAIN & COUNTRY\n",
    "df_dm2['USUBJID'] = df_dm2.STUDYID + '-' + df_dm2.SITEID + '-' + df_dm2.SUBJID  # create USUBJID\n",
    "\n",
    "for index, _df1 in df_dm2.iterrows():\n",
    "    ## Create Ethnic\n",
    "    if _df1['RACEC'].__contains__('HISPANIC'):\n",
    "        df_dm2.loc[index, 'ETHNIC'] = 'HISPANIC OR LATINO'\n",
    "    else:\n",
    "        df_dm2.loc[index, 'ETHNIC'] = 'NOT HISPANIC OR LATINO'\n",
    "        \n",
    "    ## Create Race    \n",
    "    if _df1['RACEC'].__contains__('HISPANIC'):\n",
    "        df_dm2.loc[index, 'RACE'] = 'WHITE'\n",
    "    elif _df1['RACEC'].__contains__('CAUCASIAN'):\n",
    "        df_dm2.loc[index, 'RACE'] = 'WHITE'\n",
    "    elif _df1['RACEC'].__contains__('AFRICAN'):\n",
    "        df_dm2.loc[index, 'RACE'] = 'BLACK'\n",
    "    elif _df1['RACEC'].__contains__('OTHER'):\n",
    "        df_dm2.loc[index, 'RACE'] = 'OTHER'"
   ]
  },
  {
   "cell_type": "markdown",
   "metadata": {},
   "source": [
    "## Prepare Exposure dataset"
   ]
  },
  {
   "cell_type": "code",
   "execution_count": 145,
   "metadata": {
    "collapsed": true,
    "scrolled": true
   },
   "outputs": [],
   "source": [
    "### Read exposure datasets\n",
    "with open('./data/raw/expo.xpt', 'rb') as f: \n",
    "    df_ex = xport.to_columns(f)\n",
    "    df_ex2 = pd.DataFrame(df_ex) \n"
   ]
  },
  {
   "cell_type": "code",
   "execution_count": 146,
   "metadata": {
    "collapsed": true
   },
   "outputs": [],
   "source": [
    "### Prepare exposure variables\n",
    "df_ex2['EXSTDTC'] = df_ex2['EXSTDD'] + '-' + df_ex2['EXSTMM'] + '-' + df_ex2['EXSTYY']  # exposure start date\n",
    "df_ex2['EXENDTC'] = df_ex2['EXENDD'] + '-' + df_ex2['EXENMM'] + '-' + df_ex2['EXENYY']  # exposure end date\n",
    "\n",
    "### Fine the first and last exposure date\n",
    "df_ex4 = df_ex3.sort_values(by =['SUBJID','EXSTDTC'], ascending=[True, True] )  # sort by subjid and expo date\n",
    "df_ex4_f = df_ex4.groupby('SUBJID').first()  # pick the first exposure date of the subject\n",
    "df_ex4_f2 = df_ex4_f.reset_index()  # reset index so that SUBJID is column\n",
    "df_ex4_f3 = df_ex4_f2[['SUBJID','EXSTDTC']].rename(columns={'EXSTDTC':'RFSTDTC'})  # select variables\n",
    "df_ex4_l = df_ex4.groupby('SUBJID').last()  # pick the last exposure date of the subject\n",
    "df_ex4_l2 = df_ex4_l.reset_index()  # reset index so that SUBJID is column\n",
    "df_ex4_l3 = df_ex4_l2[['SUBJID','EXENDTC']].rename(columns={'EXENDTC':'RFENDTC'})  # select variables"
   ]
  },
  {
   "cell_type": "markdown",
   "metadata": {},
   "source": [
    "### merge exposure data to demog data"
   ]
  },
  {
   "cell_type": "code",
   "execution_count": 147,
   "metadata": {
    "collapsed": true
   },
   "outputs": [],
   "source": [
    "### merge first and last exposure date\n",
    "df_ex5 = pd.merge(df_ex4_f3, df_ex4_l3, on='SUBJID')\n",
    "\n",
    "### merge exposure data to demog data\n",
    "df_dm3 = pd.merge(df_dm2, df_ex5, on='SUBJID', how='left')  # merge exposure information to dm"
   ]
  },
  {
   "cell_type": "markdown",
   "metadata": {},
   "source": [
    "## Prepare Randomization data"
   ]
  },
  {
   "cell_type": "code",
   "execution_count": 148,
   "metadata": {
    "collapsed": true,
    "scrolled": true
   },
   "outputs": [],
   "source": [
    "### Read SAS datasets from the local drive\n",
    "with open('./data/raw/rand.xpt', 'rb') as f: \n",
    "    df_rm = xport.to_columns(f)\n",
    "    df_rm2 = pd.DataFrame(df_rm) \n"
   ]
  },
  {
   "cell_type": "markdown",
   "metadata": {},
   "source": [
    "### merge randomization data to demog data"
   ]
  },
  {
   "cell_type": "code",
   "execution_count": 149,
   "metadata": {
    "collapsed": true
   },
   "outputs": [],
   "source": [
    "### Merge(inner join) randomization with demo by SUBJID. \n",
    "df_dm4 = pd.merge(df_dm3, df_rm2, on='SUBJID', how='left')\n",
    "df_dm4['ARM'] = df_dm4.DRUG\n",
    "df_dm4['ARMCD'] = df_dm4.ARM.replace(['Control','Study Drug'], ['C','SD'])\n",
    "df_dm4['ACTARMCD'] = df_dm4.ARMCD\n",
    "df_dm4['ACTARM'] = df_dm4.ARM"
   ]
  },
  {
   "cell_type": "markdown",
   "metadata": {},
   "source": [
    "## Prepare Dispostion data"
   ]
  },
  {
   "cell_type": "code",
   "execution_count": 150,
   "metadata": {
    "collapsed": true
   },
   "outputs": [],
   "source": [
    "### Read disposition datasets from the local drive\n",
    "with open('./data/raw/disp.xpt', 'rb') as f: \n",
    "    df_ds = xport.to_columns(f)\n",
    "    df_ds2 = pd.DataFrame(df_ds) \n"
   ]
  },
  {
   "cell_type": "code",
   "execution_count": 151,
   "metadata": {
    "collapsed": true
   },
   "outputs": [],
   "source": [
    "### Prepare dispostion data\n",
    "df_ds2['DSSTDTC'] = df_ds2['DSSTDD'] + '-' + df_ds2['DSSTMM'] + '-' + df_ds2['DSSTYY']  # dispostion date\n",
    "\n",
    "### prepare death data\n",
    "for index3, _df3 in df_ds2.iterrows(): \n",
    "    if _df3.DISP == 'DEATH':\n",
    "        df_ds2.loc[index3, 'DTHDTC'] = _df3.DSSTDTC\n",
    "        df_ds2.loc[index3, 'DTHFL'] = 'Y'\n",
    "        \n",
    "df_ds2['RFPENDTC'] = df_ds2.DSSTDTC\n",
    "df_ds4 = df_ds2[['SUBJID', 'RFPENDTC', 'DTHFL', 'DTHDTC']]\n"
   ]
  },
  {
   "cell_type": "markdown",
   "metadata": {},
   "source": [
    "### Merge dispostion data to demog data"
   ]
  },
  {
   "cell_type": "code",
   "execution_count": 152,
   "metadata": {
    "collapsed": true
   },
   "outputs": [],
   "source": [
    "df_dm5 = pd.merge(df_dm4, df_ds4, on='SUBJID', how='left')"
   ]
  },
  {
   "cell_type": "code",
   "execution_count": 153,
   "metadata": {
    "collapsed": true
   },
   "outputs": [],
   "source": [
    "### Prepare demographic data\n",
    "df_dm6 = df_dm5.drop(['SEXC','RACEC','DRUG'],1)  # drop sex variable\n",
    "df_dm6['RFXSTTDTC'], df_dm6['RFSENDTC'], df_dm6['RFICDTC'] = df_dm6.RFSTDTC, df_dm6.RFENDTC, ''  "
   ]
  },
  {
   "cell_type": "markdown",
   "metadata": {},
   "source": [
    "## Write CDISC DM dataset"
   ]
  },
  {
   "cell_type": "code",
   "execution_count": 154,
   "metadata": {
    "collapsed": true
   },
   "outputs": [],
   "source": [
    "with open('./data/cdisc/dm.xpt', 'wb') as f:\n",
    "    xport.from_dataframe(df_dm6, f)## write DM "
   ]
  }
 ],
 "metadata": {
  "anaconda-cloud": {},
  "kernelspec": {
   "display_name": "Python 3",
   "language": "python",
   "name": "python3"
  },
  "language_info": {
   "codemirror_mode": {
    "name": "ipython",
    "version": 3
   },
   "file_extension": ".py",
   "mimetype": "text/x-python",
   "name": "python",
   "nbconvert_exporter": "python",
   "pygments_lexer": "ipython3",
   "version": "3.6.3"
  }
 },
 "nbformat": 4,
 "nbformat_minor": 1
}
