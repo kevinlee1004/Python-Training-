{
 "cells": [
  {
   "cell_type": "markdown",
   "metadata": {},
   "source": [
    "# Part 5 : Advanced Data Analysis\n",
    "- Merge\n",
    "- Reshape \n",
    "- Metadata Analysis\n",
    "- Analysis and Reporting"
   ]
  },
  {
   "cell_type": "markdown",
   "metadata": {},
   "source": [
    "## Merging files\n",
    "use panda.merge to merage two dataframes. panda merge function can merge two data frames at a time. \n",
    "- inner join\n",
    "- outer join\n",
    "- left join\n",
    "- right join"
   ]
  },
  {
   "cell_type": "code",
   "execution_count": 3,
   "metadata": {
    "collapsed": true
   },
   "outputs": [],
   "source": [
    "### Import modules\n",
    "from pandas import Series, DataFrame\n",
    "import pandas as pd\n",
    "import numpy as np\n",
    "import xport  ## write sas datasets to local drive"
   ]
  },
  {
   "cell_type": "code",
   "execution_count": 4,
   "metadata": {},
   "outputs": [
    {
     "name": "stdout",
     "output_type": "stream",
     "text": [
      "    age sex  subjid\n",
      "0  35.0   M  01-001\n",
      "1  44.0   F  01-002\n",
      "2  66.0   F  01-003\n",
      "3   NaN   M  01-004\n",
      "type of np.NaN:  <class 'numpy.float64'>\n"
     ]
    }
   ],
   "source": [
    "raw1 = {'subjid': ['01-001', '01-002', '01-003', '01-004'],\n",
    "        'age': [35, 44, 66, np.NaN],\n",
    "        'sex': ['M','F','F','M']\n",
    "       }\n",
    "df1 = pd.DataFrame(raw1)\n",
    "print(df1)\n",
    "print(\"type of np.NaN: \", type(df1.loc[3,'age']))"
   ]
  },
  {
   "cell_type": "code",
   "execution_count": 5,
   "metadata": {},
   "outputs": [
    {
     "name": "stdout",
     "output_type": "stream",
     "text": [
      "              dsterm  subjid\n",
      "0          COMPLETED  01-001\n",
      "1  LOST TO FOLLOW-UP  01-002\n",
      "2          COMPLETED  01-003\n",
      "3       DISCONTINUED  01-005\n"
     ]
    }
   ],
   "source": [
    "raw2 = {'subjid': ['01-001', '01-002', '01-003', '01-005'],\n",
    "        'dsterm': ['COMPLETED', 'LOST TO FOLLOW-UP', 'COMPLETED','DISCONTINUED'],\n",
    "       }\n",
    "df2 = pd.DataFrame(raw2)\n",
    "print(df2)"
   ]
  },
  {
   "cell_type": "code",
   "execution_count": 6,
   "metadata": {},
   "outputs": [
    {
     "name": "stdout",
     "output_type": "stream",
     "text": [
      "Innder Join : \n",
      "     age sex  subjid             dsterm\n",
      "0  35.0   M  01-001          COMPLETED\n",
      "1  44.0   F  01-002  LOST TO FOLLOW-UP\n",
      "2  66.0   F  01-003          COMPLETED\n"
     ]
    }
   ],
   "source": [
    "## merge data frames on(by) and default of inner join. \n",
    "df_merged1 = pd.merge(df1, df2, on='subjid')\n",
    "print(\"Innder Join : \\n\", df_merged1)"
   ]
  },
  {
   "cell_type": "code",
   "execution_count": 7,
   "metadata": {},
   "outputs": [
    {
     "name": "stdout",
     "output_type": "stream",
     "text": [
      "Outer join : \n",
      "     age  sex  subjid             dsterm\n",
      "0  35.0    M  01-001          COMPLETED\n",
      "1  44.0    F  01-002  LOST TO FOLLOW-UP\n",
      "2  66.0    F  01-003          COMPLETED\n",
      "3   NaN    M  01-004                NaN\n",
      "4   NaN  NaN  01-005       DISCONTINUED\n"
     ]
    }
   ],
   "source": [
    "## merge data frames on(by) and outer join. \n",
    "df_merged2 = pd.merge(df1, df2, on='subjid', how='outer')\n",
    "print(\"Outer join : \\n\", df_merged2)  ## note that Null values (NaN) are included.  "
   ]
  },
  {
   "cell_type": "code",
   "execution_count": 8,
   "metadata": {},
   "outputs": [
    {
     "name": "stdout",
     "output_type": "stream",
     "text": [
      "Left join : \n",
      "     age sex  subjid             dsterm\n",
      "0  35.0   M  01-001          COMPLETED\n",
      "1  44.0   F  01-002  LOST TO FOLLOW-UP\n",
      "2  66.0   F  01-003          COMPLETED\n",
      "3   NaN   M  01-004                NaN\n"
     ]
    }
   ],
   "source": [
    "## merge data frames on(by) and left join. \n",
    "df_merged3 = pd.merge(df1, df2, on='subjid', how='left')\n",
    "print(\"Left join : \\n\", df_merged3)  ## note that Null values (NaN) are included.  "
   ]
  },
  {
   "cell_type": "code",
   "execution_count": 9,
   "metadata": {},
   "outputs": [
    {
     "name": "stdout",
     "output_type": "stream",
     "text": [
      "Right join : \n",
      "     age  sex  subjid             dsterm\n",
      "0  35.0    M  01-001          COMPLETED\n",
      "1  44.0    F  01-002  LOST TO FOLLOW-UP\n",
      "2  66.0    F  01-003          COMPLETED\n",
      "3   NaN  NaN  01-005       DISCONTINUED\n"
     ]
    }
   ],
   "source": [
    "## merge data frames on(by) and right join. \n",
    "df_merged4 = pd.merge(df1, df2, on='subjid', how='right')\n",
    "print(\"Right join : \\n\", df_merged4)  ## note that Null values (NaN) are included.  "
   ]
  },
  {
   "cell_type": "code",
   "execution_count": 10,
   "metadata": {},
   "outputs": [
    {
     "name": "stdout",
     "output_type": "stream",
     "text": [
      "  blood pressure  subjid  visitnum\n",
      "0            150  01-001         1\n",
      "1            151  01-001         2\n",
      "2            146  01-002         1\n",
      "3            145  01-002         2\n"
     ]
    }
   ],
   "source": [
    "raw3 = {'subjid': ['01-001', '01-001', '01-002', '01-002'],\n",
    "        'visitnum': [1,2,1,2],\n",
    "        'blood pressure': ['150','151','146','145']\n",
    "       }\n",
    "df3 = pd.DataFrame(raw3)\n",
    "print(df3)"
   ]
  },
  {
   "cell_type": "code",
   "execution_count": 11,
   "metadata": {},
   "outputs": [
    {
     "name": "stdout",
     "output_type": "stream",
     "text": [
      "   subjid  visitnum weight\n",
      "0  01-001         1    180\n",
      "1  01-001         2    181\n",
      "2  01-002         2    160\n",
      "3  01-002         1    158\n"
     ]
    }
   ],
   "source": [
    "## prepare raw data - not sorted\n",
    "raw4 = {'subjid': ['01-001', '01-001', '01-002', '01-002'],\n",
    "        'visitnum': [1,2,2,1],\n",
    "        'weight': ['180','181','160','158']\n",
    "       }\n",
    "df4 = pd.DataFrame(raw4)\n",
    "print(df4)"
   ]
  },
  {
   "cell_type": "code",
   "execution_count": 12,
   "metadata": {},
   "outputs": [
    {
     "name": "stdout",
     "output_type": "stream",
     "text": [
      "  blood pressure  subjid  visitnum weight\n",
      "0            150  01-001         1    180\n",
      "1            151  01-001         2    181\n",
      "2            146  01-002         1    158\n",
      "3            145  01-002         2    160\n"
     ]
    }
   ],
   "source": [
    "## Merge by two key variables\n",
    "df_merged_2 = pd.merge(df3, df4, on=('subjid', 'visitnum')) ## merging by two columns. Data does not need to be sorted\n",
    "print(df_merged_2)"
   ]
  },
  {
   "cell_type": "markdown",
   "metadata": {},
   "source": [
    "### Reshaping the data\n",
    "- Joining data\n",
    "- Transposing data"
   ]
  },
  {
   "cell_type": "code",
   "execution_count": 13,
   "metadata": {},
   "outputs": [
    {
     "name": "stdout",
     "output_type": "stream",
     "text": [
      "    age             dsterm  sex  subjid\n",
      "0  35.0                NaN    M  01-001\n",
      "1  44.0                NaN    F  01-002\n",
      "2  66.0                NaN    F  01-003\n",
      "3   NaN                NaN    M  01-004\n",
      "0   NaN          COMPLETED  NaN  01-001\n",
      "1   NaN  LOST TO FOLLOW-UP  NaN  01-002\n",
      "2   NaN          COMPLETED  NaN  01-003\n",
      "3   NaN       DISCONTINUED  NaN  01-005\n"
     ]
    }
   ],
   "source": [
    "## Adding together\n",
    "df_add = pd.concat([df1,df2])\n",
    "print(df_add)"
   ]
  },
  {
   "cell_type": "code",
   "execution_count": 14,
   "metadata": {},
   "outputs": [
    {
     "name": "stdout",
     "output_type": "stream",
     "text": [
      "Original data frame : \n",
      "    diabp  subjid  sysbp  weight\n",
      "0     44  01-001    154    90.5\n",
      "1     48  01-002    152    83.0\n",
      "2     47  01-003    148    78.0\n",
      "3     50  02-001    149    77.0\n",
      "\n",
      "Reorderded data frame: \n",
      "    subjid  diabp  sysbp  weight\n",
      "0  01-001     44    154    90.5\n",
      "1  01-002     48    152    83.0\n",
      "2  01-003     47    148    78.0\n",
      "3  02-001     50    149    77.0\n",
      "\n",
      "Transposed data frame : \n",
      "     subjid variable  value\n",
      "0   01-001    diabp   44.0\n",
      "1   01-002    diabp   48.0\n",
      "2   01-003    diabp   47.0\n",
      "3   02-001    diabp   50.0\n",
      "4   01-001    sysbp  154.0\n",
      "5   01-002    sysbp  152.0\n",
      "6   01-003    sysbp  148.0\n",
      "7   02-001    sysbp  149.0\n",
      "8   01-001   weight   90.5\n",
      "9   01-002   weight   83.0\n",
      "10  01-003   weight   78.0\n",
      "11  02-001   weight   77.0\n",
      "\n",
      "Renamed columns : \n",
      "     subjid  parmcd   aval\n",
      "0   01-001   diabp   44.0\n",
      "1   01-002   diabp   48.0\n",
      "2   01-003   diabp   47.0\n",
      "3   02-001   diabp   50.0\n",
      "4   01-001   sysbp  154.0\n",
      "5   01-002   sysbp  152.0\n",
      "6   01-003   sysbp  148.0\n",
      "7   02-001   sysbp  149.0\n",
      "8   01-001  weight   90.5\n",
      "9   01-002  weight   83.0\n",
      "10  01-003  weight   78.0\n",
      "11  02-001  weight   77.0\n"
     ]
    }
   ],
   "source": [
    "## Transposing data\n",
    "raw5 = {'subjid': ['01-001', '01-002', '01-003', '02-001'],\n",
    "      'sysbp': [154, 152, 148, 149],\n",
    "      'diabp': [44, 48, 47, 50],\n",
    "      'weight': [90.5, 83, 78, 77]} ## dicionary\n",
    "df5 = DataFrame(raw5)\n",
    "print(\"Original data frame : \\n\", df5)\n",
    "\n",
    "df5_2 = df5[['subjid','diabp','sysbp','weight']]\n",
    "print(\"\\nReorderded data frame: \\n\", df5_2)\n",
    "\n",
    "df_tran = pd.melt(df5_2, id_vars='subjid', value_vars=['diabp', 'sysbp','weight'])\n",
    "print(\"\\nTransposed data frame : \\n\", df_tran)\n",
    "\n",
    "df_tran2 = df_tran.rename(columns={'variable':'parmcd', 'value':'aval'})\n",
    "print(\"\\nRenamed columns : \\n\", df_tran2)"
   ]
  },
  {
   "cell_type": "code",
   "execution_count": 15,
   "metadata": {},
   "outputs": [
    {
     "name": "stdout",
     "output_type": "stream",
     "text": [
      "Transposed data : \n",
      " parmcd  diabp  sysbp  weight\n",
      "subjid                      \n",
      "01-001   44.0  154.0    90.5\n",
      "01-002   48.0  152.0    83.0\n",
      "01-003   47.0  148.0    78.0\n",
      "02-001   50.0  149.0    77.0\n",
      "Its columns :  Index(['diabp', 'sysbp', 'weight'], dtype='object', name='parmcd')\n",
      "Its indexes :  Index(['01-001', '01-002', '01-003', '02-001'], dtype='object', name='subjid')\n",
      "\n",
      "Resetted index data : \n",
      " parmcd  subjid  diabp  sysbp  weight\n",
      "0       01-001   44.0  154.0    90.5\n",
      "1       01-002   48.0  152.0    83.0\n",
      "2       01-003   47.0  148.0    78.0\n",
      "3       02-001   50.0  149.0    77.0\n",
      "Its columns :  Index(['subjid', 'diabp', 'sysbp', 'weight'], dtype='object', name='parmcd')\n",
      "Its index :  RangeIndex(start=0, stop=4, step=1)\n"
     ]
    }
   ],
   "source": [
    "## Pivotting the data\n",
    "df_tran3 = pd.pivot_table(df_tran2, values='aval', columns=['parmcd'], index=['subjid'])\n",
    "print(\"Transposed data : \\n\", df_tran3)\n",
    "print(\"Its columns : \", df_tran3.columns)\n",
    "print(\"Its indexes : \",df_tran3.index)\n",
    "\n",
    "df_tran4 = df_tran3.reset_index()\n",
    "print(\"\\nResetted index data : \\n\", df_tran4)\n",
    "print(\"Its columns : \",df_tran4.columns)\n",
    "print(\"Its index : \",df_tran4.index)"
   ]
  },
  {
   "cell_type": "code",
   "execution_count": 16,
   "metadata": {},
   "outputs": [
    {
     "name": "stdout",
     "output_type": "stream",
     "text": [
      "Data with duplicated records: \n",
      "    subjid  visitnum weight\n",
      "0  01-001         1    180\n",
      "1  01-001         2    181\n",
      "2  01-001         2    160\n",
      "3  01-001         3    158\n",
      "\n",
      "Removing duplicated records: \n",
      "    subjid  visitnum weight\n",
      "0  01-001         1    180\n",
      "1  01-001         2    181\n",
      "3  01-001         3    158\n"
     ]
    }
   ],
   "source": [
    "## Removing duplicate records\n",
    "raw6 = {'subjid': ['01-001', '01-001', '01-001', '01-001'],\n",
    "        'visitnum': [1,2,2,3],\n",
    "        'weight': ['180','181','160','158']\n",
    "       }\n",
    "df6 = pd.DataFrame(raw6)\n",
    "print(\"Data with duplicated records: \\n\", df6)\n",
    "\n",
    "df_dup = df6.drop_duplicates(subset=['subjid','visitnum'])\n",
    "print(\"\\nRemoving duplicated records: \\n\", df_dup) # note that first row is kept. Need to sort accordingly."
   ]
  },
  {
   "cell_type": "markdown",
   "metadata": {},
   "source": [
    "### Metadata"
   ]
  },
  {
   "cell_type": "code",
   "execution_count": 17,
   "metadata": {
    "collapsed": true
   },
   "outputs": [],
   "source": [
    "import xport  ## write sas datasets to local drive\n",
    "from sas7bdat import SAS7BDAT  ## read SAS datasets from local drive"
   ]
  },
  {
   "cell_type": "code",
   "execution_count": 18,
   "metadata": {
    "collapsed": true
   },
   "outputs": [],
   "source": [
    "## Read SAS datasets\n",
    "with SAS7BDAT('./data/raw/adtteos.sas7bdat') as file: \n",
    "    df_tteos = file.to_data_frame()"
   ]
  },
  {
   "cell_type": "code",
   "execution_count": 19,
   "metadata": {},
   "outputs": [
    {
     "name": "stdout",
     "output_type": "stream",
     "text": [
      "<class 'pandas.core.frame.DataFrame'>\n",
      "RangeIndex: 300 entries, 0 to 299\n",
      "Data columns (total 17 columns):\n",
      "SUBJID      300 non-null object\n",
      "SITEID      300 non-null object\n",
      "FASFL       300 non-null object\n",
      "SAFFL       300 non-null object\n",
      "TRTP        300 non-null object\n",
      "TRTPN       300 non-null float64\n",
      "PARAM       300 non-null object\n",
      "PARAMCD     300 non-null object\n",
      "PARAMTYP    300 non-null object\n",
      "AVISIT      300 non-null object\n",
      "AVISITN     300 non-null float64\n",
      "AVAL        300 non-null float64\n",
      "STARTDT     300 non-null object\n",
      "ADT         300 non-null object\n",
      "ADTF        300 non-null object\n",
      "CNSR        300 non-null float64\n",
      "EVNTDESC    300 non-null object\n",
      "dtypes: float64(4), object(13)\n",
      "memory usage: 39.9+ KB\n",
      "Information of input data: \n",
      " None\n",
      "Description of numeric columns of input data: \n",
      "             TRTPN  AVISITN        AVAL        CNSR\n",
      "count  300.000000    300.0  300.000000  300.000000\n",
      "mean     1.506667     91.0   45.620000    0.343333\n",
      "std      0.500791      0.0   33.842972    0.475615\n",
      "min      1.000000     91.0    1.000000    0.000000\n",
      "25%      1.000000     91.0   12.000000    0.000000\n",
      "50%      2.000000     91.0   41.500000    0.000000\n",
      "75%      2.000000     91.0   84.000000    1.000000\n",
      "max      2.000000     91.0   96.000000    1.000000\n",
      "List of columns: \n",
      "  Index(['SUBJID', 'SITEID', 'FASFL', 'SAFFL', 'TRTP', 'TRTPN', 'PARAM',\n",
      "       'PARAMCD', 'PARAMTYP', 'AVISIT', 'AVISITN', 'AVAL', 'STARTDT', 'ADT',\n",
      "       'ADTF', 'CNSR', 'EVNTDESC'],\n",
      "      dtype='object')\n",
      "Shape of input data: \n",
      " (300, 17)\n"
     ]
    }
   ],
   "source": [
    "## Metadata of input data\n",
    "print(\"Information of input data: \\n\", df_tteos.info())\n",
    "print(\"Description of numeric columns of input data: \\n\", df_tteos.describe())\n",
    "print(\"List of columns: \\n \", df_tteos.columns)\n",
    "print(\"Shape of input data: \\n\", df_tteos.shape) ## 300 records and 17 columns"
   ]
  },
  {
   "cell_type": "code",
   "execution_count": 20,
   "metadata": {},
   "outputs": [
    {
     "name": "stdout",
     "output_type": "stream",
     "text": [
      "\n",
      "First five data: \n",
      "     SUBJID SITEID FASFL SAFFL        TRTP  TRTPN          PARAM PARAMCD  \\\n",
      "0  310-001    310     Y     Y     Control    1.0  Days to Death   DEATH   \n",
      "1  310-002    310     Y     Y     Control    1.0  Days to Death   DEATH   \n",
      "2  310-003    310     Y     Y  Study Drug    2.0  Days to Death   DEATH   \n",
      "3  310-004    310     Y     Y  Study Drug    2.0  Days to Death   DEATH   \n",
      "4  310-005    310     Y     Y  Study Drug    2.0  Days to Death   DEATH   \n",
      "\n",
      "  PARAMTYP               AVISIT  AVISITN  AVAL     STARTDT         ADT ADTF  \\\n",
      "0  DERIVED  Double-Blind Period     91.0   1.0  2007-11-12  2007-11-12        \n",
      "1  DERIVED  Double-Blind Period     91.0  83.0  2008-01-11  2008-04-02        \n",
      "2  DERIVED  Double-Blind Period     91.0  84.0  2008-02-01  2008-04-24        \n",
      "3  DERIVED  Double-Blind Period     91.0   9.0  2008-02-07  2008-02-15        \n",
      "4  DERIVED  Double-Blind Period     91.0  51.0  2008-02-21  2008-04-11        \n",
      "\n",
      "   CNSR                       EVNTDESC  \n",
      "0   0.0                          DEATH  \n",
      "1   1.0  COMPLETE PERIOD WITHOUT EVENT  \n",
      "2   0.0                          DEATH  \n",
      "3   0.0                          DEATH  \n",
      "4   0.0                          DEATH  \n",
      "\n",
      "Last five data: \n",
      "       SUBJID SITEID FASFL SAFFL        TRTP  TRTPN          PARAM PARAMCD  \\\n",
      "295  342-003    342     Y     Y  Study Drug    2.0  Days to Death   DEATH   \n",
      "296  342-004    342     Y     Y     Control    1.0  Days to Death   DEATH   \n",
      "297  342-005    342     Y     Y  Study Drug    2.0  Days to Death   DEATH   \n",
      "298  343-001    343     Y     Y     Control    1.0  Days to Death   DEATH   \n",
      "299  343-002    343     Y     Y     Control    1.0  Days to Death   DEATH   \n",
      "\n",
      "    PARAMTYP               AVISIT  AVISITN  AVAL     STARTDT         ADT ADTF  \\\n",
      "295  DERIVED  Double-Blind Period     91.0  41.0  2009-06-29  2009-08-08        \n",
      "296  DERIVED  Double-Blind Period     91.0  85.0  2009-07-23  2009-10-15    Y   \n",
      "297  DERIVED  Double-Blind Period     91.0  12.0  2009-09-16  2009-09-27        \n",
      "298  DERIVED  Double-Blind Period     91.0  39.0  2009-11-16  2009-12-24        \n",
      "299  DERIVED  Double-Blind Period     91.0  84.0  2009-12-18  2010-03-11        \n",
      "\n",
      "     CNSR                       EVNTDESC  \n",
      "295   0.0                          DEATH  \n",
      "296   0.0                  ADVERSE EVENT  \n",
      "297   1.0                          OTHER  \n",
      "298   0.0                          DEATH  \n",
      "299   1.0  COMPLETE PERIOD WITHOUT EVENT  \n"
     ]
    }
   ],
   "source": [
    "## first and last 5 records\n",
    "print(\"\\nFirst five data: \\n\", df_tteos.head())\n",
    "print(\"\\nLast five data: \\n\", df_tteos.tail())"
   ]
  },
  {
   "cell_type": "code",
   "execution_count": 21,
   "metadata": {},
   "outputs": [
    {
     "name": "stdout",
     "output_type": "stream",
     "text": [
      "Frequency count of TRTP : \n",
      " Study Drug    152\n",
      "Control       148\n",
      "Name: TRTP, dtype: int64\n",
      "\n",
      "Frequency count of TRTP and SITEID: \n",
      " TRTP        SITEID\n",
      "Control     310        5\n",
      "            311       18\n",
      "            313       16\n",
      "            314       14\n",
      "            315       10\n",
      "            316        2\n",
      "            317        2\n",
      "            318        3\n",
      "            319        7\n",
      "            320       15\n",
      "            321        1\n",
      "            323       11\n",
      "            325       12\n",
      "            326       11\n",
      "            327        2\n",
      "            328        9\n",
      "            340        4\n",
      "            341        2\n",
      "            342        2\n",
      "            343        2\n",
      "Study Drug  310        6\n",
      "            311       18\n",
      "            313       17\n",
      "            314       13\n",
      "            315       10\n",
      "            316        3\n",
      "            317        1\n",
      "            318        5\n",
      "            319        8\n",
      "            320       15\n",
      "            321        2\n",
      "            323       14\n",
      "            325       11\n",
      "            326        9\n",
      "            327        1\n",
      "            328        9\n",
      "            340        4\n",
      "            341        3\n",
      "            342        3\n",
      "Name: SUBJID, dtype: int64\n"
     ]
    }
   ],
   "source": [
    "## Frequency of columns\n",
    "print(\"Frequency count of TRTP : \\n\", df_tteos['TRTP'].value_counts())\n",
    "print(\"\\nFrequency count of TRTP and SITEID: \\n\", df_tteos.groupby(['TRTP', 'SITEID'])['SUBJID'].count())  "
   ]
  },
  {
   "cell_type": "code",
   "execution_count": 22,
   "metadata": {},
   "outputs": [
    {
     "name": "stdout",
     "output_type": "stream",
     "text": [
      "\n",
      "Average of time to event day per treatment: \n",
      " TRTP\n",
      "Control       45.729730\n",
      "Study Drug    45.513158\n",
      "Name: AVAL, dtype: float64\n",
      "\n",
      "Descriptive statistics per treatment: \n",
      "             count       mean        std  min    25%   50%   75%   max\n",
      "TRTP                                                                 \n",
      "Control     148.0  45.729730  34.319546  1.0  10.75  40.5  84.0  96.0\n",
      "Study Drug  152.0  45.513158  33.485588  1.0  13.00  45.0  83.0  92.0\n"
     ]
    }
   ],
   "source": [
    "## other gropuby function\n",
    "print(\"\\nAverage of time to event day per treatment: \\n\", df_tteos.groupby(['TRTP'])['AVAL'].mean())  \n",
    "print(\"\\nDescriptive statistics per treatment: \\n\", df_tteos.groupby(['TRTP'])['AVAL'].describe()) "
   ]
  },
  {
   "cell_type": "markdown",
   "metadata": {
    "collapsed": true
   },
   "source": [
    "## Statistics Analysis"
   ]
  },
  {
   "cell_type": "code",
   "execution_count": 1,
   "metadata": {
    "collapsed": true
   },
   "outputs": [],
   "source": [
    "## import python stat packages\n",
    "from scipy import stats"
   ]
  },
  {
   "cell_type": "markdown",
   "metadata": {},
   "source": [
    "### Pair t-test"
   ]
  },
  {
   "cell_type": "code",
   "execution_count": 26,
   "metadata": {},
   "outputs": [
    {
     "data": {
      "text/plain": [
       "Ttest_indResult(statistic=0.0553223058850432, pvalue=0.9559187636178077)"
      ]
     },
     "execution_count": 26,
     "metadata": {},
     "output_type": "execute_result"
    }
   ],
   "source": [
    "## pair t-test\n",
    "stats.ttest_ind(df_tteos[df_tteos['TRTP']=='Control']['AVAL'], df_tteos[df_tteos['TRTP']=='Study Drug']['AVAL'])"
   ]
  },
  {
   "cell_type": "code",
   "execution_count": 29,
   "metadata": {},
   "outputs": [],
   "source": [
    "## Read SAS datasets\n",
    "with open('./data/raw/adsl.xpt', 'rb') as f: \n",
    "    _xport_adsl = xport.to_columns(f)\n",
    "    df_adsl = pd.DataFrame(_xport_adsl) \n",
    "    "
   ]
  },
  {
   "cell_type": "code",
   "execution_count": 32,
   "metadata": {},
   "outputs": [
    {
     "data": {
      "text/html": [
       "<div>\n",
       "<style>\n",
       "    .dataframe thead tr:only-child th {\n",
       "        text-align: right;\n",
       "    }\n",
       "\n",
       "    .dataframe thead th {\n",
       "        text-align: left;\n",
       "    }\n",
       "\n",
       "    .dataframe tbody tr th {\n",
       "        vertical-align: top;\n",
       "    }\n",
       "</style>\n",
       "<table border=\"1\" class=\"dataframe\">\n",
       "  <thead>\n",
       "    <tr style=\"text-align: right;\">\n",
       "      <th></th>\n",
       "      <th>AGE</th>\n",
       "      <th>AGEGRP</th>\n",
       "      <th>AGEGRPN</th>\n",
       "      <th>AGEU</th>\n",
       "      <th>ARM</th>\n",
       "      <th>ARMCD</th>\n",
       "      <th>ARMN</th>\n",
       "      <th>AVGDD</th>\n",
       "      <th>BMIBL</th>\n",
       "      <th>BMIBLGRP</th>\n",
       "      <th>...</th>\n",
       "      <th>TRTDOSE</th>\n",
       "      <th>TRTDUR</th>\n",
       "      <th>TRTP</th>\n",
       "      <th>TRTPCD</th>\n",
       "      <th>TRTPN</th>\n",
       "      <th>TRTSTDT</th>\n",
       "      <th>USUBJID</th>\n",
       "      <th>VISIT1DT</th>\n",
       "      <th>VISNUMEN</th>\n",
       "      <th>WEIGHTBL</th>\n",
       "    </tr>\n",
       "  </thead>\n",
       "  <tbody>\n",
       "    <tr>\n",
       "      <th>0</th>\n",
       "      <td>63.0</td>\n",
       "      <td>&lt;65</td>\n",
       "      <td>1.0</td>\n",
       "      <td>YEARS</td>\n",
       "      <td>Placebo</td>\n",
       "      <td>Pbo</td>\n",
       "      <td>0.0</td>\n",
       "      <td>0.0</td>\n",
       "      <td>25.1</td>\n",
       "      <td>25-&lt;30</td>\n",
       "      <td>...</td>\n",
       "      <td>0.0</td>\n",
       "      <td>182.0</td>\n",
       "      <td>Placebo</td>\n",
       "      <td>Pbo</td>\n",
       "      <td>0.0</td>\n",
       "      <td>19725.0</td>\n",
       "      <td>01-701-1015</td>\n",
       "      <td>19718.0</td>\n",
       "      <td>12.0</td>\n",
       "      <td>54.4</td>\n",
       "    </tr>\n",
       "    <tr>\n",
       "      <th>1</th>\n",
       "      <td>64.0</td>\n",
       "      <td>&lt;65</td>\n",
       "      <td>1.0</td>\n",
       "      <td>YEARS</td>\n",
       "      <td>Placebo</td>\n",
       "      <td>Pbo</td>\n",
       "      <td>0.0</td>\n",
       "      <td>0.0</td>\n",
       "      <td>30.4</td>\n",
       "      <td>&gt;=30</td>\n",
       "      <td>...</td>\n",
       "      <td>0.0</td>\n",
       "      <td>28.0</td>\n",
       "      <td>Placebo</td>\n",
       "      <td>Pbo</td>\n",
       "      <td>0.0</td>\n",
       "      <td>19210.0</td>\n",
       "      <td>01-701-1023</td>\n",
       "      <td>19196.0</td>\n",
       "      <td>5.0</td>\n",
       "      <td>80.3</td>\n",
       "    </tr>\n",
       "    <tr>\n",
       "      <th>2</th>\n",
       "      <td>71.0</td>\n",
       "      <td>65-80</td>\n",
       "      <td>2.0</td>\n",
       "      <td>YEARS</td>\n",
       "      <td>Xanomeline High Dose</td>\n",
       "      <td>Xan_Hi</td>\n",
       "      <td>2.0</td>\n",
       "      <td>77.7</td>\n",
       "      <td>31.4</td>\n",
       "      <td>&gt;=30</td>\n",
       "      <td>...</td>\n",
       "      <td>81.0</td>\n",
       "      <td>180.0</td>\n",
       "      <td>Xanomeline High Dose</td>\n",
       "      <td>Xan_Hi</td>\n",
       "      <td>2.0</td>\n",
       "      <td>19558.0</td>\n",
       "      <td>01-701-1028</td>\n",
       "      <td>19550.0</td>\n",
       "      <td>12.0</td>\n",
       "      <td>99.3</td>\n",
       "    </tr>\n",
       "    <tr>\n",
       "      <th>3</th>\n",
       "      <td>74.0</td>\n",
       "      <td>65-80</td>\n",
       "      <td>2.0</td>\n",
       "      <td>YEARS</td>\n",
       "      <td>Xanomeline Low Dose</td>\n",
       "      <td>Xan_Lo</td>\n",
       "      <td>1.0</td>\n",
       "      <td>54.0</td>\n",
       "      <td>28.8</td>\n",
       "      <td>25-&lt;30</td>\n",
       "      <td>...</td>\n",
       "      <td>54.0</td>\n",
       "      <td>14.0</td>\n",
       "      <td>Xanomeline Low Dose</td>\n",
       "      <td>Xan_Lo</td>\n",
       "      <td>1.0</td>\n",
       "      <td>19800.0</td>\n",
       "      <td>01-701-1033</td>\n",
       "      <td>19792.0</td>\n",
       "      <td>5.0</td>\n",
       "      <td>88.5</td>\n",
       "    </tr>\n",
       "    <tr>\n",
       "      <th>4</th>\n",
       "      <td>77.0</td>\n",
       "      <td>65-80</td>\n",
       "      <td>2.0</td>\n",
       "      <td>YEARS</td>\n",
       "      <td>Xanomeline High Dose</td>\n",
       "      <td>Xan_Hi</td>\n",
       "      <td>2.0</td>\n",
       "      <td>76.9</td>\n",
       "      <td>26.1</td>\n",
       "      <td>25-&lt;30</td>\n",
       "      <td>...</td>\n",
       "      <td>81.0</td>\n",
       "      <td>183.0</td>\n",
       "      <td>Xanomeline High Dose</td>\n",
       "      <td>Xan_Hi</td>\n",
       "      <td>2.0</td>\n",
       "      <td>19905.0</td>\n",
       "      <td>01-701-1034</td>\n",
       "      <td>19898.0</td>\n",
       "      <td>12.0</td>\n",
       "      <td>62.6</td>\n",
       "    </tr>\n",
       "  </tbody>\n",
       "</table>\n",
       "<p>5 rows × 51 columns</p>\n",
       "</div>"
      ],
      "text/plain": [
       "    AGE AGEGRP  AGEGRPN   AGEU                   ARM   ARMCD  ARMN  AVGDD  \\\n",
       "0  63.0    <65      1.0  YEARS               Placebo     Pbo   0.0    0.0   \n",
       "1  64.0    <65      1.0  YEARS               Placebo     Pbo   0.0    0.0   \n",
       "2  71.0  65-80      2.0  YEARS  Xanomeline High Dose  Xan_Hi   2.0   77.7   \n",
       "3  74.0  65-80      2.0  YEARS   Xanomeline Low Dose  Xan_Lo   1.0   54.0   \n",
       "4  77.0  65-80      2.0  YEARS  Xanomeline High Dose  Xan_Hi   2.0   76.9   \n",
       "\n",
       "   BMIBL BMIBLGRP   ...    TRTDOSE TRTDUR                  TRTP  TRTPCD TRTPN  \\\n",
       "0   25.1   25-<30   ...        0.0  182.0               Placebo     Pbo   0.0   \n",
       "1   30.4     >=30   ...        0.0   28.0               Placebo     Pbo   0.0   \n",
       "2   31.4     >=30   ...       81.0  180.0  Xanomeline High Dose  Xan_Hi   2.0   \n",
       "3   28.8   25-<30   ...       54.0   14.0   Xanomeline Low Dose  Xan_Lo   1.0   \n",
       "4   26.1   25-<30   ...       81.0  183.0  Xanomeline High Dose  Xan_Hi   2.0   \n",
       "\n",
       "   TRTSTDT      USUBJID VISIT1DT VISNUMEN WEIGHTBL  \n",
       "0  19725.0  01-701-1015  19718.0     12.0     54.4  \n",
       "1  19210.0  01-701-1023  19196.0      5.0     80.3  \n",
       "2  19558.0  01-701-1028  19550.0     12.0     99.3  \n",
       "3  19800.0  01-701-1033  19792.0      5.0     88.5  \n",
       "4  19905.0  01-701-1034  19898.0     12.0     62.6  \n",
       "\n",
       "[5 rows x 51 columns]"
      ]
     },
     "execution_count": 32,
     "metadata": {},
     "output_type": "execute_result"
    }
   ],
   "source": [
    "df_adsl.head()"
   ]
  },
  {
   "cell_type": "code",
   "execution_count": 38,
   "metadata": {},
   "outputs": [
    {
     "data": {
      "text/plain": [
       "Index(['AGE', 'AGEGRP', 'AGEGRPN', 'AGEU', 'ARM', 'ARMCD', 'ARMN', 'AVGDD',\n",
       "       'BMIBL', 'BMIBLGRP', 'COMPLT16', 'COMPLT24', 'COMPLT8', 'CUMDOSE',\n",
       "       'DEATH', 'DISCONT', 'DISONSET', 'DOMAIN', 'DSDECOD', 'DSREASAE',\n",
       "       'DSREASCD', 'DURDIS', 'DURDISGR', 'EDUCLVL', 'EFFICACY', 'ENDDT',\n",
       "       'HEIGHTBL', 'ITT', 'LSTDOSDT', 'MMSETOT', 'RACE', 'RACEN', 'RANDDT',\n",
       "       'RFENDTC', 'RFSTDTC', 'SAFETY', 'SEX', 'SITEGRP', 'SITEID', 'STUDYID',\n",
       "       'SUBJID', 'TRTDOSE', 'TRTDUR', 'TRTP', 'TRTPCD', 'TRTPN', 'TRTSTDT',\n",
       "       'USUBJID', 'VISIT1DT', 'VISNUMEN', 'WEIGHTBL'],\n",
       "      dtype='object')"
      ]
     },
     "execution_count": 38,
     "metadata": {},
     "output_type": "execute_result"
    }
   ],
   "source": [
    "df_adsl.columns"
   ]
  },
  {
   "cell_type": "markdown",
   "metadata": {},
   "source": [
    "### Fisher Exact Test"
   ]
  },
  {
   "cell_type": "code",
   "execution_count": 47,
   "metadata": {},
   "outputs": [
    {
     "name": "stdout",
     "output_type": "stream",
     "text": [
      "Catoegorical results of trtment and discontinuation: \n",
      " TRTP1       DISCONT\n",
      "Placebo                 58\n",
      "            Y           28\n",
      "Xanomeline              52\n",
      "            Y          116\n",
      "Name: SUBJID, dtype: int64\n",
      "<class 'pandas.core.series.Series'>\n"
     ]
    }
   ],
   "source": [
    "## Fisher Exact Test \n",
    "df_adsl['TRTP1'] = df_adsl.TRTP.replace(['Xanomeline High Dose', 'Xanomeline Low Dose'],['Xanomeline','Xanomeline']) ## conversion\n",
    "count = df_adsl.groupby(['TRTP1','DISCONT'])['SUBJID'].count()  ## occurence count of treatment and discontinuation\n",
    "print(\"Catoegorical results of trtment and discontinuation: \\n\", count)\n",
    "print(type(count))"
   ]
  },
  {
   "cell_type": "code",
   "execution_count": 50,
   "metadata": {},
   "outputs": [
    {
     "data": {
      "text/plain": [
       "array([[ 58,  28],\n",
       "       [ 52, 116]], dtype=int64)"
      ]
     },
     "execution_count": 50,
     "metadata": {},
     "output_type": "execute_result"
    }
   ],
   "source": [
    "count.values.reshape(2,2) ## convert values of Series to numpy with 2 by 2 shape"
   ]
  },
  {
   "cell_type": "code",
   "execution_count": 52,
   "metadata": {},
   "outputs": [
    {
     "name": "stdout",
     "output_type": "stream",
     "text": [
      "Odds Ratio : \n",
      " 4.6208791208791204\n",
      "P value: \n",
      " 3.189001514988957e-08\n"
     ]
    }
   ],
   "source": [
    "oddsratio, pvalue = stats.fisher_exact(count.values.reshape(2,2)) ## 2 by 2 array is an input.  \n",
    "print(\"Odds Ratio : \\n\", oddsratio)\n",
    "print(\"P value: \\n\", pvalue)"
   ]
  },
  {
   "cell_type": "markdown",
   "metadata": {},
   "source": [
    "### Survival analysis - log rank test"
   ]
  },
  {
   "cell_type": "code",
   "execution_count": 54,
   "metadata": {},
   "outputs": [],
   "source": [
    "## import lifeline logrank test function\n",
    "from lifelines.statistics import logrank_test"
   ]
  },
  {
   "cell_type": "code",
   "execution_count": 65,
   "metadata": {},
   "outputs": [
    {
     "data": {
      "text/html": [
       "<div>\n",
       "<style>\n",
       "    .dataframe thead tr:only-child th {\n",
       "        text-align: right;\n",
       "    }\n",
       "\n",
       "    .dataframe thead th {\n",
       "        text-align: left;\n",
       "    }\n",
       "\n",
       "    .dataframe tbody tr th {\n",
       "        vertical-align: top;\n",
       "    }\n",
       "</style>\n",
       "<table border=\"1\" class=\"dataframe\">\n",
       "  <thead>\n",
       "    <tr style=\"text-align: right;\">\n",
       "      <th></th>\n",
       "      <th>SUBJID</th>\n",
       "      <th>SITEID</th>\n",
       "      <th>FASFL</th>\n",
       "      <th>SAFFL</th>\n",
       "      <th>TRTPN</th>\n",
       "      <th>PARAM</th>\n",
       "      <th>PARAMCD</th>\n",
       "      <th>PARAMTYP</th>\n",
       "      <th>AVISIT</th>\n",
       "      <th>AVISITN</th>\n",
       "      <th>AVAL</th>\n",
       "      <th>STARTDT</th>\n",
       "      <th>ADT</th>\n",
       "      <th>ADTF</th>\n",
       "      <th>CNSR</th>\n",
       "      <th>EVNTDESC</th>\n",
       "    </tr>\n",
       "    <tr>\n",
       "      <th>TRTP</th>\n",
       "      <th></th>\n",
       "      <th></th>\n",
       "      <th></th>\n",
       "      <th></th>\n",
       "      <th></th>\n",
       "      <th></th>\n",
       "      <th></th>\n",
       "      <th></th>\n",
       "      <th></th>\n",
       "      <th></th>\n",
       "      <th></th>\n",
       "      <th></th>\n",
       "      <th></th>\n",
       "      <th></th>\n",
       "      <th></th>\n",
       "      <th></th>\n",
       "    </tr>\n",
       "  </thead>\n",
       "  <tbody>\n",
       "    <tr>\n",
       "      <th>Control</th>\n",
       "      <td>148</td>\n",
       "      <td>148</td>\n",
       "      <td>148</td>\n",
       "      <td>148</td>\n",
       "      <td>148</td>\n",
       "      <td>148</td>\n",
       "      <td>148</td>\n",
       "      <td>148</td>\n",
       "      <td>148</td>\n",
       "      <td>148</td>\n",
       "      <td>148</td>\n",
       "      <td>148</td>\n",
       "      <td>148</td>\n",
       "      <td>148</td>\n",
       "      <td>148</td>\n",
       "      <td>148</td>\n",
       "    </tr>\n",
       "    <tr>\n",
       "      <th>Study Drug</th>\n",
       "      <td>152</td>\n",
       "      <td>152</td>\n",
       "      <td>152</td>\n",
       "      <td>152</td>\n",
       "      <td>152</td>\n",
       "      <td>152</td>\n",
       "      <td>152</td>\n",
       "      <td>152</td>\n",
       "      <td>152</td>\n",
       "      <td>152</td>\n",
       "      <td>152</td>\n",
       "      <td>152</td>\n",
       "      <td>152</td>\n",
       "      <td>152</td>\n",
       "      <td>152</td>\n",
       "      <td>152</td>\n",
       "    </tr>\n",
       "  </tbody>\n",
       "</table>\n",
       "</div>"
      ],
      "text/plain": [
       "            SUBJID  SITEID  FASFL  SAFFL  TRTPN  PARAM  PARAMCD  PARAMTYP  \\\n",
       "TRTP                                                                        \n",
       "Control        148     148    148    148    148    148      148       148   \n",
       "Study Drug     152     152    152    152    152    152      152       152   \n",
       "\n",
       "            AVISIT  AVISITN  AVAL  STARTDT  ADT  ADTF  CNSR  EVNTDESC  \n",
       "TRTP                                                                   \n",
       "Control        148      148   148      148  148   148   148       148  \n",
       "Study Drug     152      152   152      152  152   152   152       152  "
      ]
     },
     "execution_count": 65,
     "metadata": {},
     "output_type": "execute_result"
    }
   ],
   "source": [
    "df_tteos.groupby(['TRTP']).count()"
   ]
  },
  {
   "cell_type": "code",
   "execution_count": 70,
   "metadata": {},
   "outputs": [
    {
     "name": "stdout",
     "output_type": "stream",
     "text": [
      "Treatment data occurrence :           AVAL  CNSR\n",
      "TRTP               \n",
      "Control   148   148\n",
      "Treatment data occurrence :              AVAL  CNSR\n",
      "TRTP                  \n",
      "Study Drug   152   152\n"
     ]
    }
   ],
   "source": [
    "tte_control = df_tteos[df_tteos['TRTP']=='Control'][['TRTP','AVAL','CNSR']]\n",
    "print(\"Treatment data occurrence : \", tte_control.groupby(['TRTP']).count())\n",
    "\n",
    "tte_sd = df_tteos[df_tteos['TRTP']=='Study Drug'][['TRTP','AVAL','CNSR']]\n",
    "print(\"Treatment data occurrence : \", tte_sd.groupby(['TRTP']).count())"
   ]
  },
  {
   "cell_type": "code",
   "execution_count": 83,
   "metadata": {
    "scrolled": true
   },
   "outputs": [
    {
     "name": "stdout",
     "output_type": "stream",
     "text": [
      "\n",
      "t_0=-1, alpha=0.95, null_distribution=chi squared, df=1\n",
      "\n",
      "test_statistic      p     \n",
      "       57.9232 0.0000  ***\n",
      "---\n",
      "Signif. codes:  0 '***' 0.001 '**' 0.01 '*' 0.05 '.' 0.1 ' ' 1 \n",
      "p-value of log rank test on adtteos :  2.725523833814784e-14\n"
     ]
    }
   ],
   "source": [
    "results = logrank_test(tte_control['AVAL'], tte_sd['AVAL'], event_observed_A=tte_control['CNSR'], event_observed_B=tte_sd['AVAL'], alpha=.95)\n",
    "\n",
    "results.print_summary()\n",
    "print(\"p-value of log rank test on adtteos : \", results.p_value)"
   ]
  },
  {
   "cell_type": "markdown",
   "metadata": {},
   "source": [
    "### Survival analysis - Kaplan Meier Curves"
   ]
  },
  {
   "cell_type": "code",
   "execution_count": 86,
   "metadata": {},
   "outputs": [
    {
     "data": {
      "text/plain": [
       "Text(0.5,1,'Kaplan Meier curves between Control and Study Drug')"
      ]
     },
     "execution_count": 86,
     "metadata": {},
     "output_type": "execute_result"
    },
    {
     "data": {
      "image/png": "[encoded data removed]",
      "text/plain": [
       "<matplotlib.figure.Figure at 0x23c1f9e6ef0>"
      ]
     },
     "metadata": {},
     "output_type": "display_data"
    }
   ],
   "source": [
    "### Import lifelines and Kaplan Meier Curves \n",
    "from lifelines.estimation import KaplanMeierFitter\n",
    "import matplotlib.pyplot as plt ## import plotting library\n",
    "%matplotlib inline ## make plot outputs appear and be stored in notebook\n",
    "\n",
    "kmf = KaplanMeierFitter()\n",
    "\n",
    "### Prepare Kaplan Meier Curves\n",
    "ax = plt.subplot(111)\n",
    "\n",
    "kmf.fit(tte_control.AVAL, event_observed=tte_control.CNSR, label=['Control'])\n",
    "kmf.plot(ax=ax)\n",
    "kmf.fit(tte_sd.AVAL, event_observed=tte_sd.CNSR, label=['Study Drug'])\n",
    "kmf.plot(ax=ax)\n",
    "\n",
    "plt.title('Kaplan Meier curves between Control and Study Drug')"
   ]
  },
  {
   "cell_type": "code",
   "execution_count": null,
   "metadata": {
    "collapsed": true
   },
   "outputs": [],
   "source": []
  },
  {
   "cell_type": "code",
   "execution_count": null,
   "metadata": {
    "collapsed": true
   },
   "outputs": [],
   "source": []
  }
 ],
 "metadata": {
  "anaconda-cloud": {},
  "kernelspec": {
   "display_name": "Python 3",
   "language": "python",
   "name": "python3"
  },
  "language_info": {
   "codemirror_mode": {
    "name": "ipython",
    "version": 3
   },
   "file_extension": ".py",
   "mimetype": "text/x-python",
   "name": "python",
   "nbconvert_exporter": "python",
   "pygments_lexer": "ipython3",
   "version": "3.6.3"
  }
 },
 "nbformat": 4,
 "nbformat_minor": 1
}
