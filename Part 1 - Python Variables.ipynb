{
 "cells": [
  {
   "cell_type": "markdown",
   "metadata": {},
   "source": [
    "# Python Variables\n",
    "- String\n",
    "- Number\n",
    "- List\n",
    "- Tuples\n",
    "- Sets\n",
    "- Dictionary"
   ]
  },
  {
   "cell_type": "markdown",
   "metadata": {},
   "source": [
    "## Variables\n",
    "- Variable names can contain letters, numbers and an underscore. Ex. var, var1, var_1\n",
    "- Variable names can start with letters and an underscore, but not with numbers. Ex, _var\n",
    "- Variable names can not be same as Python functions or keywords.  Ex. print\n",
    "- Variable with upper case is different from that with lower case Ex. var, Var\n",
    "- New variables can overwrite previously-defined variables"
   ]
  },
  {
   "cell_type": "code",
   "execution_count": 5,
   "metadata": {
    "collapsed": true
   },
   "outputs": [],
   "source": [
    "var = 1\n",
    "var1 = 2\n",
    "var_1 = 3\n",
    "_var = 4"
   ]
  },
  {
   "cell_type": "code",
   "execution_count": 6,
   "metadata": {},
   "outputs": [
    {
     "name": "stdout",
     "output_type": "stream",
     "text": [
      "1\n",
      "2\n",
      "3\n",
      "4\n"
     ]
    }
   ],
   "source": [
    "print(var)\n",
    "print(var1)\n",
    "print(var_1)\n",
    "print(_var)"
   ]
  },
  {
   "cell_type": "code",
   "execution_count": 7,
   "metadata": {},
   "outputs": [
    {
     "name": "stdout",
     "output_type": "stream",
     "text": [
      "5\n"
     ]
    }
   ],
   "source": [
    "# Upper case - different variables\n",
    "Var = 5\n",
    "print(Var)"
   ]
  },
  {
   "cell_type": "code",
   "execution_count": 33,
   "metadata": {},
   "outputs": [
    {
     "name": "stdout",
     "output_type": "stream",
     "text": [
      "6\n",
      "Hi\n"
     ]
    }
   ],
   "source": [
    "# overwriting the previous defined variables\n",
    "var = 6\n",
    "print(var)\n",
    "var = 'Hi'\n",
    "print(var)"
   ]
  },
  {
   "cell_type": "code",
   "execution_count": 34,
   "metadata": {},
   "outputs": [
    {
     "ename": "SyntaxError",
     "evalue": "invalid syntax (<ipython-input-34-f54be764d0ed>, line 2)",
     "output_type": "error",
     "traceback": [
      "\u001b[1;36m  File \u001b[1;32m\"<ipython-input-34-f54be764d0ed>\"\u001b[1;36m, line \u001b[1;32m2\u001b[0m\n\u001b[1;33m    1var = 6\u001b[0m\n\u001b[1;37m       ^\u001b[0m\n\u001b[1;31mSyntaxError\u001b[0m\u001b[1;31m:\u001b[0m invalid syntax\n"
     ]
    }
   ],
   "source": [
    "# Create variable starting with number\n",
    "1var = 6"
   ]
  },
  {
   "cell_type": "markdown",
   "metadata": {},
   "source": [
    "## String\n",
    "How to create String - use the double quoation (\"\") or single ('')"
   ]
  },
  {
   "cell_type": "code",
   "execution_count": 18,
   "metadata": {
    "collapsed": true
   },
   "outputs": [],
   "source": [
    "message = \"Hello\"\n",
    "message2 = 'Hi'"
   ]
  },
  {
   "cell_type": "code",
   "execution_count": 19,
   "metadata": {},
   "outputs": [
    {
     "name": "stdout",
     "output_type": "stream",
     "text": [
      "Hello\n",
      "Hi\n"
     ]
    }
   ],
   "source": [
    "print(message)\n",
    "print(message2)"
   ]
  },
  {
   "cell_type": "code",
   "execution_count": 20,
   "metadata": {},
   "outputs": [
    {
     "name": "stdout",
     "output_type": "stream",
     "text": [
      "<class 'str'>\n",
      "<class 'str'>\n"
     ]
    }
   ],
   "source": [
    "print(type(message))\n",
    "print(type(message2))"
   ]
  },
  {
   "cell_type": "code",
   "execution_count": 21,
   "metadata": {},
   "outputs": [
    {
     "data": {
      "text/plain": [
       "'Hello, Hi'"
      ]
     },
     "execution_count": 21,
     "metadata": {},
     "output_type": "execute_result"
    }
   ],
   "source": [
    "## Concantenation of string variables\n",
    "message3 = \"Kevin\"\n",
    "message4 = message + ', ' + message2\n",
    "message4"
   ]
  },
  {
   "cell_type": "code",
   "execution_count": 22,
   "metadata": {},
   "outputs": [
    {
     "name": "stdout",
     "output_type": "stream",
     "text": [
      "<class 'str'>\n"
     ]
    }
   ],
   "source": [
    "print(type(message4))"
   ]
  },
  {
   "cell_type": "code",
   "execution_count": 23,
   "metadata": {},
   "outputs": [
    {
     "name": "stdout",
     "output_type": "stream",
     "text": [
      "HelloHello\n",
      "<class 'str'>\n"
     ]
    }
   ],
   "source": [
    "message3 = message*2\n",
    "print(message3)\n",
    "print(type(message3))"
   ]
  },
  {
   "cell_type": "markdown",
   "metadata": {},
   "source": [
    "#### String method"
   ]
  },
  {
   "cell_type": "code",
   "execution_count": 24,
   "metadata": {},
   "outputs": [
    {
     "data": {
      "text/plain": [
       "['__add__',\n",
       " '__class__',\n",
       " '__contains__',\n",
       " '__delattr__',\n",
       " '__dir__',\n",
       " '__doc__',\n",
       " '__eq__',\n",
       " '__format__',\n",
       " '__ge__',\n",
       " '__getattribute__',\n",
       " '__getitem__',\n",
       " '__getnewargs__',\n",
       " '__gt__',\n",
       " '__hash__',\n",
       " '__init__',\n",
       " '__init_subclass__',\n",
       " '__iter__',\n",
       " '__le__',\n",
       " '__len__',\n",
       " '__lt__',\n",
       " '__mod__',\n",
       " '__mul__',\n",
       " '__ne__',\n",
       " '__new__',\n",
       " '__reduce__',\n",
       " '__reduce_ex__',\n",
       " '__repr__',\n",
       " '__rmod__',\n",
       " '__rmul__',\n",
       " '__setattr__',\n",
       " '__sizeof__',\n",
       " '__str__',\n",
       " '__subclasshook__',\n",
       " 'capitalize',\n",
       " 'casefold',\n",
       " 'center',\n",
       " 'count',\n",
       " 'encode',\n",
       " 'endswith',\n",
       " 'expandtabs',\n",
       " 'find',\n",
       " 'format',\n",
       " 'format_map',\n",
       " 'index',\n",
       " 'isalnum',\n",
       " 'isalpha',\n",
       " 'isdecimal',\n",
       " 'isdigit',\n",
       " 'isidentifier',\n",
       " 'islower',\n",
       " 'isnumeric',\n",
       " 'isprintable',\n",
       " 'isspace',\n",
       " 'istitle',\n",
       " 'isupper',\n",
       " 'join',\n",
       " 'ljust',\n",
       " 'lower',\n",
       " 'lstrip',\n",
       " 'maketrans',\n",
       " 'partition',\n",
       " 'replace',\n",
       " 'rfind',\n",
       " 'rindex',\n",
       " 'rjust',\n",
       " 'rpartition',\n",
       " 'rsplit',\n",
       " 'rstrip',\n",
       " 'split',\n",
       " 'splitlines',\n",
       " 'startswith',\n",
       " 'strip',\n",
       " 'swapcase',\n",
       " 'title',\n",
       " 'translate',\n",
       " 'upper',\n",
       " 'zfill']"
      ]
     },
     "execution_count": 24,
     "metadata": {},
     "output_type": "execute_result"
    }
   ],
   "source": [
    "### method that we can use for message string class(ojbect)\n",
    "dir(message)"
   ]
  },
  {
   "cell_type": "code",
   "execution_count": 25,
   "metadata": {},
   "outputs": [
    {
     "name": "stdout",
     "output_type": "stream",
     "text": [
      "HELLO\n",
      "hello\n"
     ]
    }
   ],
   "source": [
    "print(message.upper())\n",
    "print(message.lower())"
   ]
  },
  {
   "cell_type": "markdown",
   "metadata": {},
   "source": [
    "### Number\n",
    "\n",
    "type:\n",
    "- integer - int\n",
    "- floating number - float"
   ]
  },
  {
   "cell_type": "code",
   "execution_count": 26,
   "metadata": {
    "collapsed": true
   },
   "outputs": [],
   "source": [
    "## integer \n",
    "num1 = 1"
   ]
  },
  {
   "cell_type": "code",
   "execution_count": 27,
   "metadata": {},
   "outputs": [
    {
     "name": "stdout",
     "output_type": "stream",
     "text": [
      "<class 'int'>\n",
      "1\n"
     ]
    }
   ],
   "source": [
    "print(type(num1))\n",
    "print(num1)"
   ]
  },
  {
   "cell_type": "code",
   "execution_count": 28,
   "metadata": {},
   "outputs": [
    {
     "name": "stdout",
     "output_type": "stream",
     "text": [
      "<class 'int'>\n",
      "2\n"
     ]
    }
   ],
   "source": [
    "num2 = 2\n",
    "num3 = num1*num2\n",
    "print(type(num3))\n",
    "print(num3)"
   ]
  },
  {
   "cell_type": "code",
   "execution_count": 29,
   "metadata": {},
   "outputs": [
    {
     "name": "stdout",
     "output_type": "stream",
     "text": [
      "<class 'float'>\n"
     ]
    }
   ],
   "source": [
    "## floating number\n",
    "num4 = 1.2\n",
    "print(type(num4))"
   ]
  },
  {
   "cell_type": "code",
   "execution_count": 30,
   "metadata": {},
   "outputs": [
    {
     "name": "stdout",
     "output_type": "stream",
     "text": [
      "3.2\n",
      "<class 'float'>\n"
     ]
    }
   ],
   "source": [
    "## Add floating number and integer\n",
    "num5 = num4 + num3\n",
    "print(num5)\n",
    "print(type(num5))"
   ]
  },
  {
   "cell_type": "code",
   "execution_count": 37,
   "metadata": {},
   "outputs": [
    {
     "name": "stdout",
     "output_type": "stream",
     "text": [
      "1.0\n",
      "<class 'float'>\n",
      "1.0\n",
      "<class 'float'>\n"
     ]
    }
   ],
   "source": [
    "## Converting integer to floating \n",
    "num6 = num1 * 1.0\n",
    "print(num6)\n",
    "print(type(num6))\n",
    "\n",
    "## use function of float\n",
    "num7 = float(num1)\n",
    "print(num7)\n",
    "print(type(num7))"
   ]
  },
  {
   "cell_type": "code",
   "execution_count": 40,
   "metadata": {},
   "outputs": [
    {
     "name": "stdout",
     "output_type": "stream",
     "text": [
      "1\n",
      "<class 'int'>\n",
      "1\n",
      "2\n"
     ]
    }
   ],
   "source": [
    "## Converting floating to integer\n",
    "num8 = int(num7)\n",
    "print(num8)\n",
    "print(type(num8))\n",
    "\n",
    "num9 = 1.6\n",
    "num10 = int(num9)\n",
    "print(num10)\n",
    "num11 = int(round(num9))\n",
    "print(num11)"
   ]
  },
  {
   "cell_type": "code",
   "execution_count": 42,
   "metadata": {},
   "outputs": [
    {
     "name": "stdout",
     "output_type": "stream",
     "text": [
      "1\n",
      "<class 'str'>\n",
      "11\n"
     ]
    }
   ],
   "source": [
    "## Convert number to string\n",
    "str1 = str(num1)\n",
    "print(str1)\n",
    "print(type(str1))\n",
    "\n",
    "str2 = str1*2  #different from interger multilication\n",
    "print(str2)"
   ]
  },
  {
   "cell_type": "code",
   "execution_count": 32,
   "metadata": {
    "scrolled": true
   },
   "outputs": [
    {
     "ename": "TypeError",
     "evalue": "must be str, not int",
     "output_type": "error",
     "traceback": [
      "\u001b[1;31m---------------------------------------------------------------------------\u001b[0m",
      "\u001b[1;31mTypeError\u001b[0m                                 Traceback (most recent call last)",
      "\u001b[1;32m<ipython-input-32-2eef39499311>\u001b[0m in \u001b[0;36m<module>\u001b[1;34m()\u001b[0m\n\u001b[1;32m----> 1\u001b[1;33m \u001b[0mmixed\u001b[0m \u001b[1;33m=\u001b[0m \u001b[0mmessage\u001b[0m \u001b[1;33m+\u001b[0m \u001b[0mnum1\u001b[0m\u001b[1;33m\u001b[0m\u001b[0m\n\u001b[0m",
      "\u001b[1;31mTypeError\u001b[0m: must be str, not int"
     ]
    }
   ],
   "source": [
    "# string and number can't be added\n",
    "mixed = message + num1 "
   ]
  },
  {
   "cell_type": "markdown",
   "metadata": {},
   "source": [
    "## List\n",
    "A list is a collection of items in a particular order. <br>\n",
    "Examples is list1 = [1,2,3,4,5]"
   ]
  },
  {
   "cell_type": "code",
   "execution_count": 57,
   "metadata": {},
   "outputs": [
    {
     "name": "stdout",
     "output_type": "stream",
     "text": [
      "['mild', 'moderate', 'severe']\n",
      "<class 'list'>\n",
      "[0, 1, 2]\n",
      "<class 'list'>\n"
     ]
    }
   ],
   "source": [
    "## List example\n",
    "CT_AESEV = ['mild', 'moderate', 'severe']\n",
    "print(CT_AESEV)\n",
    "print(type(CT_AESEV))\n",
    "\n",
    "CT_AESEVCD = [0,1,2]\n",
    "print(CT_AESEVCD)\n",
    "print(type(CT_AESEVCD))"
   ]
  },
  {
   "cell_type": "code",
   "execution_count": 58,
   "metadata": {},
   "outputs": [
    {
     "name": "stdout",
     "output_type": "stream",
     "text": [
      "moderate\n",
      "<class 'str'>\n",
      "1\n",
      "<class 'int'>\n"
     ]
    }
   ],
   "source": [
    "## individual element in list\n",
    "## index starts from 0 not from 1\n",
    "print(CT_AESEV[1])\n",
    "CT_AESEV1 = CT_AESEV[1] # string\n",
    "print(type(CT_AESEV1))\n",
    "\n",
    "print(CT_AESEVCD[1])\n",
    "CT_AESEVCD1 = CT_AESEVCD[1] # integer\n",
    "print(type(CT_AESEVCD1))"
   ]
  },
  {
   "cell_type": "code",
   "execution_count": 59,
   "metadata": {},
   "outputs": [
    {
     "name": "stdout",
     "output_type": "stream",
     "text": [
      "['mild', 'normal', 'severe']\n"
     ]
    }
   ],
   "source": [
    "## Changing elements in the list\n",
    "CT_AESEV[1] = 'normal'\n",
    "print(CT_AESEV)"
   ]
  },
  {
   "cell_type": "code",
   "execution_count": 60,
   "metadata": {},
   "outputs": [
    {
     "name": "stdout",
     "output_type": "stream",
     "text": [
      "['mild', 'normal', 'severe', 'not applicable']\n"
     ]
    }
   ],
   "source": [
    "## Adding elements in the list\n",
    "CT_AESEV.append('not applicable')\n",
    "print(CT_AESEV)"
   ]
  },
  {
   "cell_type": "code",
   "execution_count": 61,
   "metadata": {},
   "outputs": [
    {
     "name": "stdout",
     "output_type": "stream",
     "text": [
      "['mild', 'moderate', 'normal', 'severe', 'not applicable']\n"
     ]
    }
   ],
   "source": [
    "## inserting element in certain order\n",
    "CT_AESEV.insert(1,'moderate')  # insert with 1 will insert 'moderate' in index order of 1\n",
    "print(CT_AESEV)"
   ]
  },
  {
   "cell_type": "code",
   "execution_count": 62,
   "metadata": {},
   "outputs": [
    {
     "name": "stdout",
     "output_type": "stream",
     "text": [
      "['mild', 'moderate', 'severe', 'not applicable']\n",
      "['mild', 'moderate', 'severe']\n"
     ]
    }
   ],
   "source": [
    "## removing element from list\n",
    "del CT_AESEV[2] # remove element using index \n",
    "print(CT_AESEV)\n",
    "\n",
    "CT_AESEV.remove('not applicable') # remove element using values\n",
    "print(CT_AESEV)"
   ]
  },
  {
   "cell_type": "code",
   "execution_count": 79,
   "metadata": {},
   "outputs": [
    {
     "name": "stdout",
     "output_type": "stream",
     "text": [
      "['mild', 'moderate', 'severe']\n"
     ]
    },
    {
     "data": {
      "text/plain": [
       "3"
      ]
     },
     "execution_count": 79,
     "metadata": {},
     "output_type": "execute_result"
    }
   ],
   "source": [
    "## Finding the length of list\n",
    "print(CT_AESEV)\n",
    "len(CT_AESEV)"
   ]
  },
  {
   "cell_type": "code",
   "execution_count": 64,
   "metadata": {},
   "outputs": [
    {
     "name": "stdout",
     "output_type": "stream",
     "text": [
      "mild\n",
      "moderate\n",
      "severe\n"
     ]
    }
   ],
   "source": [
    "## using FOR loops with list\n",
    "for ct in CT_AESEV:\n",
    "    print(ct)"
   ]
  },
  {
   "cell_type": "code",
   "execution_count": 74,
   "metadata": {},
   "outputs": [
    {
     "name": "stdout",
     "output_type": "stream",
     "text": [
      "<class 'list'>\n",
      "[1]\n"
     ]
    }
   ],
   "source": [
    "## Creating a list\n",
    "a = 1 ; b = 2; c = 3; d = 4\n",
    "list_num = []\n",
    "print(type(list_num))\n",
    "\n",
    "list_num.append(a)\n",
    "print(list_num)"
   ]
  },
  {
   "cell_type": "code",
   "execution_count": 78,
   "metadata": {},
   "outputs": [
    {
     "name": "stdout",
     "output_type": "stream",
     "text": [
      "[0, 1, 2, 3, 4, 5, 6, 7, 8, 10]\n",
      "[0, 1]\n",
      "[0, 1, 2, 3]\n",
      "[3, 4]\n",
      "[4, 5, 6, 7, 8, 10]\n"
     ]
    }
   ],
   "source": [
    "## Subsetting a list\n",
    "list_num2 = [0,1,2,3,4,5,6,7,8,10]\n",
    "print(list_num2)\n",
    "\n",
    "list_num_sub2 = list_num2[:2] # subsetting 0 to 1 index number\n",
    "print(list_num_sub)\n",
    "\n",
    "list_num_sub4 = list_num2[:4] # subsetting 0 to 4 index number\n",
    "print(list_num_sub4)\n",
    "\n",
    "list_num_sub3_5 = list_num2[3:5] # subsetting 3 to 5 index number\n",
    "print(list_num_sub3_5)\n",
    "\n",
    "list_num_sub4_last = list_num2[4:] # subsetting from 4 to last index number\n",
    "print(list_num_sub4_last)"
   ]
  },
  {
   "cell_type": "markdown",
   "metadata": {},
   "source": [
    "## Tuples\n",
    "A tuple is an immuntable list which can't be modified"
   ]
  },
  {
   "cell_type": "code",
   "execution_count": 83,
   "metadata": {},
   "outputs": [
    {
     "name": "stdout",
     "output_type": "stream",
     "text": [
      "(0, 1, 2, 3)\n",
      "<class 'tuple'>\n"
     ]
    }
   ],
   "source": [
    "## develop tuple class\n",
    "tuple1 = (0,1,2,3)\n",
    "print(tuple1)\n",
    "print(type(tuple1))"
   ]
  },
  {
   "cell_type": "code",
   "execution_count": 84,
   "metadata": {
    "scrolled": true
   },
   "outputs": [
    {
     "name": "stdout",
     "output_type": "stream",
     "text": [
      "0\n"
     ]
    },
    {
     "ename": "TypeError",
     "evalue": "'tuple' object does not support item assignment",
     "output_type": "error",
     "traceback": [
      "\u001b[1;31m---------------------------------------------------------------------------\u001b[0m",
      "\u001b[1;31mTypeError\u001b[0m                                 Traceback (most recent call last)",
      "\u001b[1;32m<ipython-input-84-7a73d4655fdf>\u001b[0m in \u001b[0;36m<module>\u001b[1;34m()\u001b[0m\n\u001b[0;32m      1\u001b[0m \u001b[0mprint\u001b[0m\u001b[1;33m(\u001b[0m\u001b[0mtuple1\u001b[0m\u001b[1;33m[\u001b[0m\u001b[1;36m0\u001b[0m\u001b[1;33m]\u001b[0m\u001b[1;33m)\u001b[0m\u001b[1;33m\u001b[0m\u001b[0m\n\u001b[1;32m----> 2\u001b[1;33m \u001b[0mtuple1\u001b[0m\u001b[1;33m[\u001b[0m\u001b[1;36m0\u001b[0m\u001b[1;33m]\u001b[0m \u001b[1;33m=\u001b[0m \u001b[1;36m10\u001b[0m  \u001b[1;31m## error message\u001b[0m\u001b[1;33m\u001b[0m\u001b[0m\n\u001b[0m",
      "\u001b[1;31mTypeError\u001b[0m: 'tuple' object does not support item assignment"
     ]
    }
   ],
   "source": [
    "print(tuple1[0])\n",
    "tuple1[0] = 10  ## error message"
   ]
  },
  {
   "cell_type": "markdown",
   "metadata": {},
   "source": [
    "## Sets\n",
    "A set is an unordered collection with no duplicate elements.  It does not have an index. "
   ]
  },
  {
   "cell_type": "code",
   "execution_count": 86,
   "metadata": {},
   "outputs": [
    {
     "name": "stdout",
     "output_type": "stream",
     "text": [
      "{'asian', 'black', 'white', 'other'}\n",
      "<class 'set'>\n"
     ]
    }
   ],
   "source": [
    "## create set class\n",
    "sets1 = {'white','black','asian','other'}\n",
    "print(sets1)\n",
    "print(type(sets1))"
   ]
  },
  {
   "cell_type": "code",
   "execution_count": 89,
   "metadata": {},
   "outputs": [
    {
     "ename": "TypeError",
     "evalue": "'set' object does not support indexing",
     "output_type": "error",
     "traceback": [
      "\u001b[1;31m---------------------------------------------------------------------------\u001b[0m",
      "\u001b[1;31mTypeError\u001b[0m                                 Traceback (most recent call last)",
      "\u001b[1;32m<ipython-input-89-603855662d5b>\u001b[0m in \u001b[0;36m<module>\u001b[1;34m()\u001b[0m\n\u001b[1;32m----> 1\u001b[1;33m \u001b[0mprint\u001b[0m\u001b[1;33m(\u001b[0m\u001b[0msets1\u001b[0m\u001b[1;33m[\u001b[0m\u001b[1;36m0\u001b[0m\u001b[1;33m]\u001b[0m\u001b[1;33m)\u001b[0m\u001b[1;33m\u001b[0m\u001b[0m\n\u001b[0m",
      "\u001b[1;31mTypeError\u001b[0m: 'set' object does not support indexing"
     ]
    }
   ],
   "source": [
    "print(sets1[0])  ## error"
   ]
  },
  {
   "cell_type": "code",
   "execution_count": 87,
   "metadata": {},
   "outputs": [
    {
     "name": "stdout",
     "output_type": "stream",
     "text": [
      "asian\n",
      "black\n",
      "white\n",
      "other\n"
     ]
    }
   ],
   "source": [
    "for set1 in sets1:\n",
    "    print(set1)"
   ]
  },
  {
   "cell_type": "code",
   "execution_count": 91,
   "metadata": {},
   "outputs": [
    {
     "name": "stdout",
     "output_type": "stream",
     "text": [
      "{'d', 'c', 'b', 'a', 'r'}\n",
      "{'2', '1', '6', '4', '5', '3', '7'}\n"
     ]
    }
   ],
   "source": [
    "## develope set class.  It creates no duplicate \n",
    "sets2 = set('abracadabra')  \n",
    "print(sets2)\n",
    "\n",
    "sets3 = set('12567345')\n",
    "print(sets3)"
   ]
  },
  {
   "cell_type": "markdown",
   "metadata": {},
   "source": [
    "## Dictionary\n",
    "A dictionary is a unordered collection which is changeable and indexed"
   ]
  },
  {
   "cell_type": "code",
   "execution_count": 93,
   "metadata": {},
   "outputs": [
    {
     "name": "stdout",
     "output_type": "stream",
     "text": [
      "{'sex': 'male', 'race': 'white', 'age': 34}\n",
      "<class 'dict'>\n"
     ]
    }
   ],
   "source": [
    "## create dictionary\n",
    "subject1 = {'sex':'male', 'race':'white', 'age':34}\n",
    "print(subject1)\n",
    "print(type(subject1))"
   ]
  },
  {
   "cell_type": "markdown",
   "metadata": {},
   "source": [
    "A dictionary is data collections of key-value pairs. key could be number, string, list or dictionary"
   ]
  },
  {
   "cell_type": "code",
   "execution_count": 98,
   "metadata": {},
   "outputs": [
    {
     "name": "stdout",
     "output_type": "stream",
     "text": [
      "male\n",
      "{'sex': 'female', 'race': 'white', 'age': 34}\n"
     ]
    }
   ],
   "source": [
    "## use key in dictionary\n",
    "print(subject1['sex'])\n",
    "## modifying dictionary\n",
    "subject1['sex']= 'female'  # update the value of key 'sex'\n",
    "print(subject1)"
   ]
  },
  {
   "cell_type": "code",
   "execution_count": 99,
   "metadata": {},
   "outputs": [
    {
     "name": "stdout",
     "output_type": "stream",
     "text": [
      "female\n",
      "<class 'str'>\n",
      "34\n",
      "<class 'int'>\n"
     ]
    }
   ],
   "source": [
    "## assign key to other class\n",
    "key1 = subject1['sex']\n",
    "print(key1)\n",
    "print(type(key1))\n",
    "key2 = subject1['age']\n",
    "print(key2)\n",
    "print(type(key2))"
   ]
  },
  {
   "cell_type": "code",
   "execution_count": 103,
   "metadata": {},
   "outputs": [
    {
     "name": "stdout",
     "output_type": "stream",
     "text": [
      "{'subjid': '001-001', 'sex': 'male', 'race': 'white', 'age': 34}\n",
      "4\n",
      "{'sex': 'male', 'race': 'white', 'age': 34}\n",
      "3\n"
     ]
    }
   ],
   "source": [
    "### Remove key-value pairs\n",
    "subject2 = {'subjid': '001-001', 'sex':'male', 'race':'white', 'age':34}\n",
    "print(subject2)\n",
    "print(len(subject2))\n",
    "del subject2['subjid']  # remove subjid key\n",
    "print(subject2)\n",
    "print(len(subject2))"
   ]
  },
  {
   "cell_type": "code",
   "execution_count": 106,
   "metadata": {},
   "outputs": [
    {
     "name": "stdout",
     "output_type": "stream",
     "text": [
      "Key: subjid\n",
      "Value: 001-002\n",
      "Key: sex\n",
      "Value: female\n",
      "Key: race\n",
      "Value: asian\n"
     ]
    }
   ],
   "source": [
    "## For looping dictionary\n",
    "subject3 = {'subjid': '001-002', 'sex':'female', 'race':'asian'}\n",
    "for key, value in subject3.items():\n",
    "    print(\"Key: \" + key)\n",
    "    print(\"Value: \" + value)"
   ]
  },
  {
   "cell_type": "code",
   "execution_count": 108,
   "metadata": {},
   "outputs": [
    {
     "name": "stdout",
     "output_type": "stream",
     "text": [
      "Value: 001-002\n",
      "Value: female\n",
      "Value: asian\n"
     ]
    }
   ],
   "source": [
    "## For looping dictionary\n",
    "for value in subject3.values():\n",
    "    print(\"Value: \" + value)"
   ]
  },
  {
   "cell_type": "code",
   "execution_count": 114,
   "metadata": {},
   "outputs": [
    {
     "name": "stdout",
     "output_type": "stream",
     "text": [
      "{'subjid': '001-004', 'site': '001', 'medication': ['med1', 'med2', 'med3']}\n",
      "dict_keys(['subjid', 'site', 'medication'])\n",
      "['med1', 'med2', 'med3']\n",
      "<class 'list'>\n"
     ]
    },
    {
     "ename": "KeyError",
     "evalue": "1",
     "output_type": "error",
     "traceback": [
      "\u001b[1;31m---------------------------------------------------------------------------\u001b[0m",
      "\u001b[1;31mKeyError\u001b[0m                                  Traceback (most recent call last)",
      "\u001b[1;32m<ipython-input-114-32253d1728e5>\u001b[0m in \u001b[0;36m<module>\u001b[1;34m()\u001b[0m\n\u001b[0;32m     13\u001b[0m \u001b[1;33m\u001b[0m\u001b[0m\n\u001b[0;32m     14\u001b[0m \u001b[1;31m## subset using index\u001b[0m\u001b[1;33m\u001b[0m\u001b[1;33m\u001b[0m\u001b[0m\n\u001b[1;32m---> 15\u001b[1;33m \u001b[0msite_subj4\u001b[0m \u001b[1;33m=\u001b[0m \u001b[0msubject4\u001b[0m\u001b[1;33m[\u001b[0m\u001b[1;36m1\u001b[0m\u001b[1;33m]\u001b[0m\u001b[1;33m\u001b[0m\u001b[0m\n\u001b[0m",
      "\u001b[1;31mKeyError\u001b[0m: 1"
     ]
    }
   ],
   "source": [
    "## Nesting in Dictionary - List in a dictionary\n",
    "subject4 = {'subjid': '001-004', 'site':'001', 'medication':['med1','med2','med3']}\n",
    "print(subject4)\n",
    "\n",
    "## print a list of keys \n",
    "print(subject4.keys())\n",
    "\n",
    "## subset using key medication \n",
    "med_subj4 = subject4['medication']\n",
    "print(med_subj4)\n",
    "print(type(med_subj4))\n",
    "\n",
    "## subset using index\n",
    "site_subj4 = subject4[1]  ## no index in dictionary"
   ]
  },
  {
   "cell_type": "code",
   "execution_count": 116,
   "metadata": {},
   "outputs": [
    {
     "name": "stdout",
     "output_type": "stream",
     "text": [
      "{'subjid': '001-005', 'site': '001', 'name': {'last': 'Smith', 'first': 'Johh'}}\n",
      "{'last': 'Smith', 'first': 'Johh'}\n",
      "<class 'dict'>\n",
      "Johh\n",
      "<class 'str'>\n"
     ]
    }
   ],
   "source": [
    "## Nesting in Dictionary - dictionary in a dictionary\n",
    "subject5 = {'subjid': '001-005', 'site':'001', 'name':{'last': 'Smith', 'first': 'Johh'}}\n",
    "print(subject5)\n",
    "\n",
    "## subset dictionary\n",
    "name_sub5 = subject5['name']\n",
    "print(name_sub5)\n",
    "print(type(name_sub5))\n",
    "\n",
    "## subject-subset of dictionary\n",
    "firstname_sub5 = subject5['name']['first']\n",
    "print(firstname_sub5)\n",
    "print(type(firstname_sub5))"
   ]
  },
  {
   "cell_type": "markdown",
   "metadata": {},
   "source": [
    "## Date Variable"
   ]
  },
  {
   "cell_type": "code",
   "execution_count": 1,
   "metadata": {
    "collapsed": true
   },
   "outputs": [],
   "source": [
    "## import date class \n",
    "import time\n",
    "from datetime import date"
   ]
  },
  {
   "cell_type": "code",
   "execution_count": 8,
   "metadata": {},
   "outputs": [
    {
     "name": "stdout",
     "output_type": "stream",
     "text": [
      "Today is :  2018-11-13\n",
      "Type of date from date class :  <class 'datetime.date'>\n",
      "Year of today using year method of date class :  2018\n",
      "Type of variable :  <class 'int'>\n"
     ]
    }
   ],
   "source": [
    "## create date variable using date class\n",
    "today = date.today()\n",
    "print(\"Today is : \", today)\n",
    "print(\"Type of date from date class : \", type(today))\n",
    "today_year = today.year\n",
    "print(\"Year of today using year method of date class : \", today_year)\n",
    "print(\"Type of variable : \", type(today_year))"
   ]
  },
  {
   "cell_type": "code",
   "execution_count": 13,
   "metadata": {},
   "outputs": [
    {
     "name": "stdout",
     "output_type": "stream",
     "text": [
      "Tuesday 13. November 2018\n",
      "13/11/18\n",
      "13/11/2018\n",
      "13. November 2018\n"
     ]
    }
   ],
   "source": [
    "print(today.strftime(\"%A %d. %B %Y\"))\n",
    "print(today.strftime(\"%d/%m/%y\"))\n",
    "print(today.strftime(\"%d/%m/%Y\"))\n",
    "print(today.strftime(\"%d. %B %Y\"))"
   ]
  },
  {
   "cell_type": "code",
   "execution_count": 7,
   "metadata": {},
   "outputs": [
    {
     "name": "stdout",
     "output_type": "stream",
     "text": [
      "2018-11-12\n",
      "<class 'datetime.date'>\n"
     ]
    }
   ],
   "source": [
    "## Create date class object\n",
    "my_brthdt = date(2018, 11, 12)\n",
    "print(my_brthdt)\n",
    "print(type(my_brthdt))"
   ]
  },
  {
   "cell_type": "code",
   "execution_count": 9,
   "metadata": {
    "collapsed": true
   },
   "outputs": [],
   "source": [
    "date1 = date(2017,1,1)\n",
    "date2 = date(2017,1,3)\n",
    "date3 = date(2017,1,10)"
   ]
  },
  {
   "cell_type": "code",
   "execution_count": 14,
   "metadata": {},
   "outputs": [
    {
     "name": "stdout",
     "output_type": "stream",
     "text": [
      "2017-01-03  is later than  2017-01-01\n"
     ]
    }
   ],
   "source": [
    "## date comparison\n",
    "if date2 > date1:\n",
    "    print(date2, \" is later than \", date1)\n"
   ]
  },
  {
   "cell_type": "code",
   "execution_count": 16,
   "metadata": {},
   "outputs": [
    {
     "name": "stdout",
     "output_type": "stream",
     "text": [
      "Difference between dates is  9 days, 0:00:00\n",
      "Type of variable is  <class 'datetime.timedelta'>\n"
     ]
    }
   ],
   "source": [
    "### create difference between dates\n",
    "diff_date = date3 - date1\n",
    "print(\"Difference between dates is \", diff_date)\n",
    "print(\"Type of variable is \", type(diff_date))"
   ]
  },
  {
   "cell_type": "code",
   "execution_count": null,
   "metadata": {
    "collapsed": true
   },
   "outputs": [],
   "source": []
  }
 ],
 "metadata": {
  "anaconda-cloud": {},
  "kernelspec": {
   "display_name": "Python 3",
   "language": "python",
   "name": "python3"
  },
  "language_info": {
   "codemirror_mode": {
    "name": "ipython",
    "version": 3
   },
   "file_extension": ".py",
   "mimetype": "text/x-python",
   "name": "python",
   "nbconvert_exporter": "python",
   "pygments_lexer": "ipython3",
   "version": "3.6.3"
  }
 },
 "nbformat": 4,
 "nbformat_minor": 1
}
